{
  "nbformat": 4,
  "nbformat_minor": 0,
  "metadata": {
    "colab": {
      "provenance": [],
      "authorship_tag": "ABX9TyO6F8A//DdwDLV3ke58+f4q",
      "include_colab_link": true
    },
    "kernelspec": {
      "name": "python3",
      "display_name": "Python 3"
    },
    "language_info": {
      "name": "python"
    }
  },
  "cells": [
    {
      "cell_type": "markdown",
      "metadata": {
        "id": "view-in-github",
        "colab_type": "text"
      },
      "source": [
        "<a href=\"https://colab.research.google.com/github/ragavkish/a.n.d.r.e.w./blob/main/train.ipynb\" target=\"_parent\"><img src=\"https://colab.research.google.com/assets/colab-badge.svg\" alt=\"Open In Colab\"/></a>"
      ]
    },
    {
      "cell_type": "code",
      "execution_count": 1,
      "metadata": {
        "colab": {
          "base_uri": "https://localhost:8080/"
        },
        "id": "oDmXWU1aLuu4",
        "outputId": "fea1da45-31de-448f-b6cf-f5e24111008d"
      },
      "outputs": [
        {
          "output_type": "stream",
          "name": "stdout",
          "text": [
            "--2024-12-23 06:23:55--  https://raw.githubusercontent.com/ragavkish/a.n.d.r.e.w./refs/heads/main/input.txt\n",
            "Resolving raw.githubusercontent.com (raw.githubusercontent.com)... 185.199.108.133, 185.199.109.133, 185.199.110.133, ...\n",
            "Connecting to raw.githubusercontent.com (raw.githubusercontent.com)|185.199.108.133|:443... connected.\n",
            "HTTP request sent, awaiting response... 200 OK\n",
            "Length: 2896107 (2.8M) [text/plain]\n",
            "Saving to: ‘input.txt’\n",
            "\n",
            "input.txt           100%[===================>]   2.76M  --.-KB/s    in 0.03s   \n",
            "\n",
            "2024-12-23 06:23:56 (92.5 MB/s) - ‘input.txt’ saved [2896107/2896107]\n",
            "\n"
          ]
        }
      ],
      "source": [
        "!wget https://raw.githubusercontent.com/ragavkish/a.n.d.r.e.w./refs/heads/main/input.txt"
      ]
    },
    {
      "cell_type": "code",
      "source": [
        "with open('input.txt', 'r', encoding = 'utf-8') as f:\n",
        "  text = f.read()"
      ],
      "metadata": {
        "id": "3mn9F3AdNju7"
      },
      "execution_count": 6,
      "outputs": []
    },
    {
      "cell_type": "code",
      "source": [
        "print(\"length of characters: \", len(text))"
      ],
      "metadata": {
        "colab": {
          "base_uri": "https://localhost:8080/"
        },
        "id": "a8Wp5uybNzkq",
        "outputId": "2b7bf6ec-6002-457d-bdca-b7a04cb80e91"
      },
      "execution_count": 7,
      "outputs": [
        {
          "output_type": "stream",
          "name": "stdout",
          "text": [
            "length of characters:  2864550\n"
          ]
        }
      ]
    },
    {
      "cell_type": "code",
      "source": [
        "print(text[:5000])"
      ],
      "metadata": {
        "colab": {
          "base_uri": "https://localhost:8080/"
        },
        "collapsed": true,
        "id": "GZ_3q-7PN7I0",
        "outputId": "539389f1-8e35-4bc7-bc08-473bc1441df8"
      },
      "execution_count": 9,
      "outputs": [
        {
          "output_type": "stream",
          "name": "stdout",
          "text": [
            "\fGOD CREATED\n",
            "THE INTEGERS\n",
            "\n",
            "\fGOD CREATED THE INTEGERS\n",
            "THE MATHEMATICAL BREAKTHROUGHS THAT CHANGED HISTORY\n",
            "\n",
            "EDITED, WITH COMMENTARY, BY\n",
            "\n",
            "STEPHEN\n",
            "HAWKING\n",
            "\n",
            "RUNNING PRESS\n",
            "PHILADELPHIA • LONDON\n",
            "\fCONTENTS\n",
            "Introduction\n",
            "\n",
            "EUCLID\n",
            "(C. 325BC–265BC)\n",
            "His Life and Work\n",
            "Selections from Euclid’s Elements\n",
            "Book I: Basic Geometry—Definitions, Postulates, Common Notions; and\n",
            "Proposition 47, (leading up to the Pythagorean Theorem)\n",
            "Book V: The Eudoxian Theory of Proportion—Definitions & Propositions\n",
            "Book VII: Elementary Number Theory—Definitions & Propositions\n",
            "Book IX: Proposition 20: The Infinitude of Prime Numbers\n",
            "Book IX: Proposition 36: Even Perfect Numbers\n",
            "Book X: Commensurable and Incommensurable Magnitudes\n",
            "\n",
            "ARCHIMEDES\n",
            "(287BC–212BC)\n",
            "His Life and Work\n",
            "Selections from The Works of Archimedes\n",
            "On the Sphere and Cylinder, Books I and II\n",
            "Measurement of a Circle\n",
            "The Sand Reckoner\n",
            "The Methods\n",
            "\n",
            "DIOPHANTUS\n",
            "(C. 200–284)\n",
            "His Life and Work\n",
            "Selections from Diophantus of Alexandria, A Study in the History of Greek\n",
            "Algebra\n",
            "Book II Problems 8–35\n",
            "\n",
            "\fBook III Problems 5–21\n",
            "Book V Problems 1–29\n",
            "\n",
            "RENÉ DESCARTES\n",
            "(1596–1650)\n",
            "His Life and Work\n",
            "The Geometry of Rene Descartes\n",
            "\n",
            "ISAAC NEWTON\n",
            "(1642–1727)\n",
            "His Life and Work\n",
            "Selections from Principia\n",
            "On First and Last Ratios of Quantities\n",
            "\n",
            "LEONHARD EULER\n",
            "(1707–1783)\n",
            "His Life and Work\n",
            "On the sums of series of reciprocals (De summis serierum reciprocarum)\n",
            "The Seven Bridges of Konigsberg\n",
            "Proof that Every Integer is A Sum of Four Squares\n",
            "\n",
            "PIERRE SIMON LAPLACE\n",
            "(1749–1827)\n",
            "His Life and Work\n",
            "A Philosophical Essay on Probabilities\n",
            "\n",
            "JEAN BAPTISTE JOSEPH FOURIER\n",
            "(1768–1830)\n",
            "His Life and Work\n",
            "Selection from The Analytical Theory of Heat\n",
            "Chapter III: Propagation of Heat in an Infinite Rectangular Solid (The\n",
            "Fourier series)\n",
            "\n",
            "\fCARL FRIEDRICH GAUSS\n",
            "(1777–1855)\n",
            "His Life and Work\n",
            "Selections from Disquisitiones Arithmeticae (Arithmetic Disquisitions)\n",
            "Section III Residues of Powers\n",
            "Section IV Congruences of the Second Degree\n",
            "\n",
            "AUGUSTIN-LOUIS CAUCHY\n",
            "(1789–1857)\n",
            "His Life and Work\n",
            "Selections from Oeuvres complètes d’Augustin Cauchy Résumé des leçons\n",
            "données à l’École Royale Polytechnique sur le calcul infinitésimal (1823), series\n",
            "2, vol. 4\n",
            "Lessons 3–4 on differential calculus\n",
            "Lessons 21–24 on the integral\n",
            "\n",
            "NIKOLAI IVANOVICH LOBACHEVSKY\n",
            "(1792–1856)\n",
            "His Life and Work\n",
            "Geometrical Researches on the Theory of Parallels\n",
            "\n",
            "JÁNOS BOLYAI\n",
            "(1802–1860)\n",
            "His Life and Work\n",
            "The Science of Absolute Space\n",
            "\n",
            "ÉVARISTE GALOIS\n",
            "(1811–1832)\n",
            "His Life and Work\n",
            "On the conditions that an equation be soluble by radicals\n",
            "Of the primitive equations which are soluble by radicals\n",
            "On Groups and Equations and Abelian Integrals\n",
            "\n",
            "\fGEORGE BOOLE\n",
            "(1815–1864)\n",
            "His Life and Work\n",
            "An Investigation of the Laws of Thought\n",
            "\n",
            "BERNHARD RIEMANN\n",
            "(1826–1866)\n",
            "His Life and Work\n",
            "On the Representability of a Function by Means of a Trigonometric Series\n",
            "(Ueber die Darstellbarkeit eine Function durch einer trigonometrische Reihe)\n",
            "On the Hypotheses which lie at the Bases of Geometry (Ueber die Hypothesen,\n",
            "welche der Geometrie zu Grunde liegen)\n",
            "On the Number of Prime Numbers Less than a Given Quantity (Ueber die\n",
            "Anzahl der Primzahlen unter einer gegebenen Grösse)\n",
            "\n",
            "KARL WEIERSTRASS\n",
            "(1815–1897)\n",
            "His Life and Work\n",
            "Selected Chapters on the Theory of Functions, Lecture Given in Berlin in 1886,\n",
            "with the Inaugural Academic Speech, Berlin 1857\n",
            "§ 7 Gleichmässige Stetigkeit (Uniform Continuity)\n",
            "\n",
            "RICHARD DEDEKIND\n",
            "(1831–1916)\n",
            "His Life and Work\n",
            "Essays on the Theory of Numbers\n",
            "\n",
            "GEORG CANTOR\n",
            "(1848–1918)\n",
            "His Life and Work\n",
            "Selections from Contributions to the Founding of the Theory of Transfinite\n",
            "Numbers\n",
            "Articles I and II\n",
            "\n",
            "\fHENRI LEBESGUE\n",
            "(1875–1941)\n",
            "His Life and Work\n",
            "Selections from Integrale, Longeur, Aire (Intergral, Length, Area)\n",
            "Preliminaries and Integral\n",
            "\n",
            "KURT GÖDEL\n",
            "(1906–1978)\n",
            "His Life and Work\n",
            "On Formally Undecidable Propositions of Principia Mathematica and Related\n",
            "Systems\n",
            "\n",
            "ALAN TURING\n",
            "(1912–1954)\n",
            "His Life and Work\n",
            "On computable numbers with an application to the Entscheidungsproblem,\n",
            "Proceedings of the London Mathematical Society\n",
            "\n",
            "\fINTRODUCTION\n",
            "WE ARE LUCKY TO LIVE IN AN AGE LN WHICH WE ARE\n",
            "STILL MAKING DISCOVERIES. IT IS LIKE THE DISCOVERY\n",
            "OF AMERICA-YOU ONLY DISCOVER IT ONCE. THE AGE IN\n",
            "WHICH WE LIVE IS THE AGE IN WHICH WE ARE\n",
            "DISCOVERING THE FUNDAMENTAL LAWS OF NATURE . . .\n",
            "—AMERICAN PHYSICIST RICHARD FEYNMAN, SPOKEN\n",
            "IN 1964\n",
            "\n",
            "S\n",
            "\n",
            "howcasing excerpts from thirty-one of the most important works in the\n",
            "history of mathematics (four of which have been translated into English\n",
            "for the very first time), this book is a celebration of the mathematicians\n",
            "who helped move us forward in our understanding of the world and who paved\n",
            "the way for our current age of science and technology.\n",
            "Over the centuries, the efforts of these mathematicians have helped the\n",
            "human race to achieve great insight into nature, such as the realization that the\n",
            "earth is round, that the same force that causes an apple to fall here on earth is\n",
            "also responsible for the motions of the heavenly bodies, that space is finite and\n",
            "not eternal, that\n"
          ]
        }
      ]
    },
    {
      "cell_type": "code",
      "source": [
        "chars = sorted(list(set(text)))\n",
        "vocab_size = len(chars)\n",
        "print(''.join(chars))\n",
        "print(vocab_size)"
      ],
      "metadata": {
        "colab": {
          "base_uri": "https://localhost:8080/"
        },
        "id": "yJlZzl6bOJmh",
        "outputId": "8c54fd32-d26f-479d-8ccc-a52d346dd242"
      },
      "execution_count": 10,
      "outputs": [
        {
          "output_type": "stream",
          "name": "stdout",
          "text": [
            "\n",
            "\f !$%&()*+,-./0123456789:;<=>?@ABCDEFGHIJKLMNOPQRSTUVWXYZ[]_abcdefghijklmnopqrstuvwxyz{|}~£§¯°±µ·½ÁÈÉÖ×Üàáâäæçèéêëîïòóôö÷üĀāīŒœŚşŨūƒəʅΓΔΘΙΛΞΠΣΦΨΩέΰαβγδεζηθκλμνξοπρςστυφχψωύϕϵ–—‘’“”‡•…′″‴Ω⅓→↔∊∏∑−∓∞∠∥∫∴≅≠≡≤≥⊢⊥\n",
            "208\n"
          ]
        }
      ]
    },
    {
      "cell_type": "code",
      "source": [
        "# prompt: mapping from characters to integers\n",
        "\n",
        "stoi = { ch:i for i,ch in enumerate(chars) }\n",
        "itos = { i:ch for i,ch in enumerate(chars) }\n",
        "encode = lambda s: [stoi[c] for c in s]\n",
        "decode = lambda l: ''.join([itos[i] for i in l])\n",
        "\n",
        "print(encode(\"hii there\"))\n",
        "print(decode(encode(\"hii there\")))"
      ],
      "metadata": {
        "colab": {
          "base_uri": "https://localhost:8080/"
        },
        "id": "w0AZc5V-O4bu",
        "outputId": "1d7fd114-e49f-4a5c-ac9d-75902d5a2870"
      },
      "execution_count": 11,
      "outputs": [
        {
          "output_type": "stream",
          "name": "stdout",
          "text": [
            "[68, 69, 69, 2, 80, 68, 65, 78, 65]\n",
            "hii there\n"
          ]
        }
      ]
    },
    {
      "cell_type": "code",
      "source": [
        "import torch\n",
        "data = torch.tensor(encode(text), dtype=torch.long)\n",
        "print(data.shape, data.dtype)\n",
        "print(data[:1000])"
      ],
      "metadata": {
        "colab": {
          "base_uri": "https://localhost:8080/"
        },
        "collapsed": true,
        "id": "vzBvjTTbQlP6",
        "outputId": "1c1b5b2c-f721-41b2-8b39-58ef7f0ccc15"
      },
      "execution_count": 16,
      "outputs": [
        {
          "output_type": "stream",
          "name": "stdout",
          "text": [
            "torch.Size([2864550]) torch.int64\n",
            "tensor([  1,  38,  46,  35,   2,  34,  49,  36,  32,  51,  36,  35,   0,  51,\n",
            "         39,  36,   2,  40,  45,  51,  36,  38,  36,  49,  50,   0,   0,   1,\n",
            "         38,  46,  35,   2,  34,  49,  36,  32,  51,  36,  35,   2,  51,  39,\n",
            "         36,   2,  40,  45,  51,  36,  38,  36,  49,  50,   0,  51,  39,  36,\n",
            "          2,  44,  32,  51,  39,  36,  44,  32,  51,  40,  34,  32,  43,   2,\n",
            "         33,  49,  36,  32,  42,  51,  39,  49,  46,  52,  38,  39,  50,   2,\n",
            "         51,  39,  32,  51,   2,  34,  39,  32,  45,  38,  36,  35,   2,  39,\n",
            "         40,  50,  51,  46,  49,  56,   0,   0,  36,  35,  40,  51,  36,  35,\n",
            "         11,   2,  54,  40,  51,  39,   2,  34,  46,  44,  44,  36,  45,  51,\n",
            "         32,  49,  56,  11,   2,  33,  56,   0,   0,  50,  51,  36,  47,  39,\n",
            "         36,  45,   0,  39,  32,  54,  42,  40,  45,  38,   0,   0,  49,  52,\n",
            "         45,  45,  40,  45,  38,   2,  47,  49,  36,  50,  50,   0,  47,  39,\n",
            "         40,  43,  32,  35,  36,  43,  47,  39,  40,  32,   2, 182,   2,  43,\n",
            "         46,  45,  35,  46,  45,   0,   1,  34,  46,  45,  51,  36,  45,  51,\n",
            "         50,   0,  40,  74,  80,  78,  75,  64,  81,  63,  80,  69,  75,  74,\n",
            "          0,   0,  36,  52,  34,  43,  40,  35,   0,   7,  34,  13,   2,  18,\n",
            "         17,  20,  33,  34, 175,  17,  21,  20,  33,  34,   8,   0,  39,  69,\n",
            "         79,   2,  43,  69,  66,  65,   2,  61,  74,  64,   2,  54,  75,  78,\n",
            "         71,   0,  50,  65,  72,  65,  63,  80,  69,  75,  74,  79,   2,  66,\n",
            "         78,  75,  73,   2,  36,  81,  63,  72,  69,  64, 178,  79,   2,  36,\n",
            "         72,  65,  73,  65,  74,  80,  79,   0,  33,  75,  75,  71,   2,  40,\n",
            "         25,   2,  33,  61,  79,  69,  63,   2,  38,  65,  75,  73,  65,  80,\n",
            "         78,  85, 176,  35,  65,  66,  69,  74,  69,  80,  69,  75,  74,  79,\n",
            "         11,   2,  47,  75,  79,  80,  81,  72,  61,  80,  65,  79,  11,   2,\n",
            "         34,  75,  73,  73,  75,  74,   2,  45,  75,  80,  69,  75,  74,  79,\n",
            "         26,   2,  61,  74,  64,   0,  47,  78,  75,  76,  75,  79,  69,  80,\n",
            "         69,  75,  74,   2,  19,  22,  11,   2,   7,  72,  65,  61,  64,  69,\n",
            "         74,  67,   2,  81,  76,   2,  80,  75,   2,  80,  68,  65,   2,  47,\n",
            "         85,  80,  68,  61,  67,  75,  78,  65,  61,  74,   2,  51,  68,  65,\n",
            "         75,  78,  65,  73,   8,   0,  33,  75,  75,  71,   2,  53,  25,   2,\n",
            "         51,  68,  65,   2,  36,  81,  64,  75,  84,  69,  61,  74,   2,  51,\n",
            "         68,  65,  75,  78,  85,   2,  75,  66,   2,  47,  78,  75,  76,  75,\n",
            "         78,  80,  69,  75,  74, 176,  35,  65,  66,  69,  74,  69,  80,  69,\n",
            "         75,  74,  79,   2,   6,   2,  47,  78,  75,  76,  75,  79,  69,  80,\n",
            "         69,  75,  74,  79,   0,  33,  75,  75,  71,   2,  53,  40,  40,  25,\n",
            "          2,  36,  72,  65,  73,  65,  74,  80,  61,  78,  85,   2,  45,  81,\n",
            "         73,  62,  65,  78,   2,  51,  68,  65,  75,  78,  85, 176,  35,  65,\n",
            "         66,  69,  74,  69,  80,  69,  75,  74,  79,   2,   6,   2,  47,  78,\n",
            "         75,  76,  75,  79,  69,  80,  69,  75,  74,  79,   0,  33,  75,  75,\n",
            "         71,   2,  40,  55,  25,   2,  47,  78,  75,  76,  75,  79,  69,  80,\n",
            "         69,  75,  74,   2,  17,  15,  25,   2,  51,  68,  65,   2,  40,  74,\n",
            "         66,  69,  74,  69,  80,  81,  64,  65,   2,  75,  66,   2,  47,  78,\n",
            "         69,  73,  65,   2,  45,  81,  73,  62,  65,  78,  79,   0,  33,  75,\n",
            "         75,  71,   2,  40,  55,  25,   2,  47,  78,  75,  76,  75,  79,  69,\n",
            "         80,  69,  75,  74,   2,  18,  21,  25,   2,  36,  82,  65,  74,   2,\n",
            "         47,  65,  78,  66,  65,  63,  80,   2,  45,  81,  73,  62,  65,  78,\n",
            "         79,   0,  33,  75,  75,  71,   2,  55,  25,   2,  34,  75,  73,  73,\n",
            "         65,  74,  79,  81,  78,  61,  62,  72,  65,   2,  61,  74,  64,   2,\n",
            "         40,  74,  63,  75,  73,  73,  65,  74,  79,  81,  78,  61,  62,  72,\n",
            "         65,   2,  44,  61,  67,  74,  69,  80,  81,  64,  65,  79,   0,   0,\n",
            "         32,  49,  34,  39,  40,  44,  36,  35,  36,  50,   0,   7,  17,  23,\n",
            "         22,  33,  34, 175,  17,  16,  17,  33,  34,   8,   0,  39,  69,  79,\n",
            "          2,  43,  69,  66,  65,   2,  61,  74,  64,   2,  54,  75,  78,  71,\n",
            "          0,  50,  65,  72,  65,  63,  80,  69,  75,  74,  79,   2,  66,  78,\n",
            "         75,  73,   2,  51,  68,  65,   2,  54,  75,  78,  71,  79,   2,  75,\n",
            "         66,   2,  32,  78,  63,  68,  69,  73,  65,  64,  65,  79,   0,  46,\n",
            "         74,   2,  80,  68,  65,   2,  50,  76,  68,  65,  78,  65,   2,  61,\n",
            "         74,  64,   2,  34,  85,  72,  69,  74,  64,  65,  78,  11,   2,  33,\n",
            "         75,  75,  71,  79,   2,  40,   2,  61,  74,  64,   2,  40,  40,   0,\n",
            "         44,  65,  61,  79,  81,  78,  65,  73,  65,  74,  80,   2,  75,  66,\n",
            "          2,  61,   2,  34,  69,  78,  63,  72,  65,   0,  51,  68,  65,   2,\n",
            "         50,  61,  74,  64,   2,  49,  65,  63,  71,  75,  74,  65,  78,   0,\n",
            "         51,  68,  65,   2,  44,  65,  80,  68,  75,  64,  79,   0,   0,  35,\n",
            "         40,  46,  47,  39,  32,  45,  51,  52,  50,   0,   7,  34,  13,   2,\n",
            "         17,  15,  15, 175,  17,  23,  19,   8,   0,  39,  69,  79,   2,  43,\n",
            "         69,  66,  65,   2,  61,  74,  64,   2,  54,  75,  78,  71,   0,  50,\n",
            "         65,  72,  65,  63,  80,  69,  75,  74,  79,   2,  66,  78,  75,  73,\n",
            "          2,  35,  69,  75,  76,  68,  61,  74,  80,  81,  79,   2,  75,  66,\n",
            "          2,  32,  72,  65,  84,  61,  74,  64,  78,  69,  61,  11,   2,  32,\n",
            "          2,  50,  80,  81,  64,  85,   2,  69,  74,   2,  80,  68,  65,   2,\n",
            "         39,  69,  79,  80,  75,  78,  85,   2,  75,  66,   2,  38,  78,  65,\n",
            "         65,  71,   0,  32,  72,  67])\n"
          ]
        }
      ]
    },
    {
      "cell_type": "code",
      "source": [
        "n=int(0.9*len(data))\n",
        "train = data[:n]\n",
        "val = data[n:]"
      ],
      "metadata": {
        "id": "V5VLsUKSRGbI"
      },
      "execution_count": 17,
      "outputs": []
    },
    {
      "cell_type": "code",
      "source": [
        "block_size = 8\n",
        "train[:block_size+1]"
      ],
      "metadata": {
        "colab": {
          "base_uri": "https://localhost:8080/"
        },
        "id": "9Hs6CuGZSj2H",
        "outputId": "a36c462b-b335-4865-bc89-efbff9d37688"
      },
      "execution_count": 25,
      "outputs": [
        {
          "output_type": "execute_result",
          "data": {
            "text/plain": [
              "tensor([ 1, 38, 46, 35,  2, 34, 49, 36, 32])"
            ]
          },
          "metadata": {},
          "execution_count": 25
        }
      ]
    },
    {
      "cell_type": "code",
      "source": [
        "x = train[:block_size]\n",
        "y = train[1:block_size+1]\n",
        "for t in range(block_size):\n",
        "  context = x[:t+1]\n",
        "  target = y[t]\n",
        "  print(f\"when input is {context} the target: {target}\")"
      ],
      "metadata": {
        "colab": {
          "base_uri": "https://localhost:8080/"
        },
        "id": "wZ6VR4crS8kV",
        "outputId": "d941dd4d-fb89-435d-9e6c-7abe9d5390c9"
      },
      "execution_count": 26,
      "outputs": [
        {
          "output_type": "stream",
          "name": "stdout",
          "text": [
            "when input is tensor([1]) the target: 38\n",
            "when input is tensor([ 1, 38]) the target: 46\n",
            "when input is tensor([ 1, 38, 46]) the target: 35\n",
            "when input is tensor([ 1, 38, 46, 35]) the target: 2\n",
            "when input is tensor([ 1, 38, 46, 35,  2]) the target: 34\n",
            "when input is tensor([ 1, 38, 46, 35,  2, 34]) the target: 49\n",
            "when input is tensor([ 1, 38, 46, 35,  2, 34, 49]) the target: 36\n",
            "when input is tensor([ 1, 38, 46, 35,  2, 34, 49, 36]) the target: 32\n"
          ]
        }
      ]
    },
    {
      "cell_type": "code",
      "source": [
        "torch.manual_seed(1337)\n",
        "batch_size = 4\n",
        "block_size = 8\n",
        "\n",
        "def get_batch(split):\n",
        "  data = train if split == 'train' else val\n",
        "  ix = torch.randint(len(data) - block_size, (batch_size,))\n",
        "  x = torch.stack([data[i:i+block_size] for i in ix])\n",
        "  y = torch.stack([data[i+1:i+block_size+1] for i in ix])\n",
        "  return x, y\n",
        "\n",
        "xb, yb = get_batch('train')\n",
        "print('inputs:')\n",
        "print(xb.shape)\n",
        "print(xb)\n",
        "print('targets:')\n",
        "print(yb.shape)\n",
        "print(yb)\n",
        "\n",
        "print('----')\n",
        "\n",
        "for b in range(batch_size):\n",
        "  for t in range(block_size):\n",
        "    context = xb[b, :t+1]\n",
        "    target = yb[b,t]\n",
        "    print(f\"when input is {context.tolist()} the target: {target}\")"
      ],
      "metadata": {
        "colab": {
          "base_uri": "https://localhost:8080/"
        },
        "id": "kkWGKzLMWUq_",
        "outputId": "f2541409-07d5-43fd-d08e-5d4eebabdc62"
      },
      "execution_count": 27,
      "outputs": [
        {
          "output_type": "stream",
          "name": "stdout",
          "text": [
            "inputs:\n",
            "torch.Size([4, 8])\n",
            "tensor([[83, 68, 65, 74,  2, 80, 68, 65],\n",
            "        [81, 72, 80, 69, 65, 79, 11,  2],\n",
            "        [68, 65,  0, 80, 78, 61, 74, 79],\n",
            "        [69, 74, 65, 79,  2, 61, 79,  2]])\n",
            "targets:\n",
            "torch.Size([4, 8])\n",
            "tensor([[68, 65, 74,  2, 80, 68, 65, 69],\n",
            "        [72, 80, 69, 65, 79, 11,  2, 75],\n",
            "        [65,  0, 80, 78, 61, 74, 79, 66],\n",
            "        [74, 65, 79,  2, 61, 79,  2, 47]])\n",
            "----\n",
            "when input is [83] the target: 68\n",
            "when input is [83, 68] the target: 65\n",
            "when input is [83, 68, 65] the target: 74\n",
            "when input is [83, 68, 65, 74] the target: 2\n",
            "when input is [83, 68, 65, 74, 2] the target: 80\n",
            "when input is [83, 68, 65, 74, 2, 80] the target: 68\n",
            "when input is [83, 68, 65, 74, 2, 80, 68] the target: 65\n",
            "when input is [83, 68, 65, 74, 2, 80, 68, 65] the target: 69\n",
            "when input is [81] the target: 72\n",
            "when input is [81, 72] the target: 80\n",
            "when input is [81, 72, 80] the target: 69\n",
            "when input is [81, 72, 80, 69] the target: 65\n",
            "when input is [81, 72, 80, 69, 65] the target: 79\n",
            "when input is [81, 72, 80, 69, 65, 79] the target: 11\n",
            "when input is [81, 72, 80, 69, 65, 79, 11] the target: 2\n",
            "when input is [81, 72, 80, 69, 65, 79, 11, 2] the target: 75\n",
            "when input is [68] the target: 65\n",
            "when input is [68, 65] the target: 0\n",
            "when input is [68, 65, 0] the target: 80\n",
            "when input is [68, 65, 0, 80] the target: 78\n",
            "when input is [68, 65, 0, 80, 78] the target: 61\n",
            "when input is [68, 65, 0, 80, 78, 61] the target: 74\n",
            "when input is [68, 65, 0, 80, 78, 61, 74] the target: 79\n",
            "when input is [68, 65, 0, 80, 78, 61, 74, 79] the target: 66\n",
            "when input is [69] the target: 74\n",
            "when input is [69, 74] the target: 65\n",
            "when input is [69, 74, 65] the target: 79\n",
            "when input is [69, 74, 65, 79] the target: 2\n",
            "when input is [69, 74, 65, 79, 2] the target: 61\n",
            "when input is [69, 74, 65, 79, 2, 61] the target: 79\n",
            "when input is [69, 74, 65, 79, 2, 61, 79] the target: 2\n",
            "when input is [69, 74, 65, 79, 2, 61, 79, 2] the target: 47\n"
          ]
        }
      ]
    },
    {
      "cell_type": "code",
      "source": [
        "print(xb)"
      ],
      "metadata": {
        "colab": {
          "base_uri": "https://localhost:8080/"
        },
        "id": "nVsC6S1uXXWO",
        "outputId": "abda7d67-7695-4135-e8bf-094a076d6c28"
      },
      "execution_count": 28,
      "outputs": [
        {
          "output_type": "stream",
          "name": "stdout",
          "text": [
            "tensor([[83, 68, 65, 74,  2, 80, 68, 65],\n",
            "        [81, 72, 80, 69, 65, 79, 11,  2],\n",
            "        [68, 65,  0, 80, 78, 61, 74, 79],\n",
            "        [69, 74, 65, 79,  2, 61, 79,  2]])\n"
          ]
        }
      ]
    },
    {
      "cell_type": "code",
      "source": [
        "import torch\n",
        "import torch.nn as nn\n",
        "from torch.nn import functional as F\n",
        "torch.manual_seed(1337)\n",
        "\n",
        "class BigramLanguageModel(nn.Module):\n",
        "\n",
        "  def __init__(self, vocab_size):\n",
        "    super().__init__()\n",
        "    self.token_embedding_table = nn.Embedding(vocab_size, vocab_size)\n",
        "\n",
        "  def forward(self, idx, targets=None):\n",
        "\n",
        "    logits = self.token_embedding_table(idx)\n",
        "\n",
        "    if targets is None:\n",
        "      loss = None\n",
        "    else:\n",
        "      B, T, C = logits.shape\n",
        "      logits = logits.view(B*T, C)\n",
        "      targets =  targets.view(B*T)\n",
        "      loss = F.cross_entropy(logits, targets)\n",
        "\n",
        "    return logits, loss\n",
        "\n",
        "  def generate(self, idx, max_new_tokens):\n",
        "    for _ in range(max_new_tokens):\n",
        "      logits, loss = self(idx)\n",
        "      logits = logits[:, -1, :]\n",
        "      probs = F.softmax(logits, dim=-1)\n",
        "      idx_next = torch.multinomial(probs, num_samples=1)\n",
        "      idx = torch.cat((idx, idx_next), dim=1)\n",
        "    return idx\n",
        "\n",
        "m = BigramLanguageModel(vocab_size)\n",
        "logits, loss = m(xb, yb)\n",
        "print(logits.shape)\n",
        "print(loss)\n",
        "\n",
        "\n",
        "print(decode(m.generate(idx = torch.zeros((1,1), dtype=torch.long), max_new_tokens=100)[0].tolist()))"
      ],
      "metadata": {
        "colab": {
          "base_uri": "https://localhost:8080/"
        },
        "id": "3idA8vsUg5qC",
        "outputId": "c36a9715-6aca-4430-c295-ede968dda5bc"
      },
      "execution_count": 33,
      "outputs": [
        {
          "output_type": "stream",
          "name": "stdout",
          "text": [
            "torch.Size([32, 208])\n",
            "tensor(5.8508, grad_fn=<NllLossBackward0>)\n",
            "\n",
            "Wjp¯ρ∞ξγ…ʅ“É 9GçMσ′ύàʅχεcχ×|tA\fΩΩ[Ö;ωæ°±−bü0ληəÜʅχÈ⊢Ām‘Éε≠ZCJîï435Ξψπ>ü’Ιδ…pvΰΨβüYρ∥a4±$µ%*Π%ερæîj£c\n"
          ]
        }
      ]
    },
    {
      "cell_type": "code",
      "source": [
        "optimizer = torch.optim.AdamW(m.parameters(), lr=1e-3)"
      ],
      "metadata": {
        "id": "thEDGw9Q0wWK"
      },
      "execution_count": 34,
      "outputs": []
    },
    {
      "cell_type": "code",
      "source": [
        "batch_size = 32\n",
        "for steps in range(10000):\n",
        "\n",
        "  xb, yb = get_batch('train')\n",
        "\n",
        "  logits, loss = m(xb, yb)\n",
        "  optimizer.zero_grad(set_to_none=True)\n",
        "  loss.backward()\n",
        "  optimizer.step()\n",
        "\n",
        "print(loss.item())"
      ],
      "metadata": {
        "colab": {
          "base_uri": "https://localhost:8080/"
        },
        "id": "ns2WcVx81Ghc",
        "outputId": "3cbea2e6-3606-4508-83f4-b9b2612f6b2a"
      },
      "execution_count": 52,
      "outputs": [
        {
          "output_type": "stream",
          "name": "stdout",
          "text": [
            "2.478816270828247\n"
          ]
        }
      ]
    },
    {
      "cell_type": "code",
      "source": [
        "print(decode(m.generate(idx = torch.zeros((1,1), dtype=torch.long), max_new_tokens=500)[0].tolist()))"
      ],
      "metadata": {
        "colab": {
          "base_uri": "https://localhost:8080/"
        },
        "id": "jt6b3XiS2QmQ",
        "outputId": "523ee75b-bc35-4931-a01a-863fc21f1a2d"
      },
      "execution_count": 53,
      "outputs": [
        {
          "output_type": "stream",
          "name": "stdout",
          "text": [
            "\n",
            "\n",
            "chistheimeng d s emers istithenif and G(bery l tofongrth br + α). bu = st the tand whingreo gion\n",
            "on e, of ive isinanatond tr . E an F th\n",
            "athe whondinjuas to f 0\n",
            "rsubll acondumeth x,” X TR o x.\n",
            "Se. an, fithereives TE an isavach isw CAR ruathys 1.\n",
            "tof y to tathibes me wheexprmeamay tlome\n",
            "as f te f\n",
            "\n",
            "l th wof m, tong riodusthego t ont thar theconereime s, pon ichin m chetodishin im, as lo the plimathe 81):\n",
            "catofore elag − st\n",
            "respollle\n",
            "vectar at,\n",
            "cangrisord co alere it\n",
            "Sunofin oreden d ithe des beme\n"
          ]
        }
      ]
    }
  ]
}