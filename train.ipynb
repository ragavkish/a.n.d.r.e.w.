{
  "nbformat": 4,
  "nbformat_minor": 0,
  "metadata": {
    "colab": {
      "provenance": [],
      "authorship_tag": "ABX9TyPuXNBCMEal2XluYezPZECL",
      "include_colab_link": true
    },
    "kernelspec": {
      "name": "python3",
      "display_name": "Python 3"
    },
    "language_info": {
      "name": "python"
    }
  },
  "cells": [
    {
      "cell_type": "markdown",
      "metadata": {
        "id": "view-in-github",
        "colab_type": "text"
      },
      "source": [
        "<a href=\"https://colab.research.google.com/github/ragavkish/a.n.d.r.e.w./blob/main/train.ipynb\" target=\"_parent\"><img src=\"https://colab.research.google.com/assets/colab-badge.svg\" alt=\"Open In Colab\"/></a>"
      ]
    },
    {
      "cell_type": "code",
      "execution_count": 1,
      "metadata": {
        "colab": {
          "base_uri": "https://localhost:8080/"
        },
        "id": "oDmXWU1aLuu4",
        "outputId": "fea1da45-31de-448f-b6cf-f5e24111008d"
      },
      "outputs": [
        {
          "output_type": "stream",
          "name": "stdout",
          "text": [
            "--2024-12-23 06:23:55--  https://raw.githubusercontent.com/ragavkish/a.n.d.r.e.w./refs/heads/main/input.txt\n",
            "Resolving raw.githubusercontent.com (raw.githubusercontent.com)... 185.199.108.133, 185.199.109.133, 185.199.110.133, ...\n",
            "Connecting to raw.githubusercontent.com (raw.githubusercontent.com)|185.199.108.133|:443... connected.\n",
            "HTTP request sent, awaiting response... 200 OK\n",
            "Length: 2896107 (2.8M) [text/plain]\n",
            "Saving to: ‘input.txt’\n",
            "\n",
            "input.txt           100%[===================>]   2.76M  --.-KB/s    in 0.03s   \n",
            "\n",
            "2024-12-23 06:23:56 (92.5 MB/s) - ‘input.txt’ saved [2896107/2896107]\n",
            "\n"
          ]
        }
      ],
      "source": [
        "!wget https://raw.githubusercontent.com/ragavkish/a.n.d.r.e.w./refs/heads/main/input.txt"
      ]
    },
    {
      "cell_type": "code",
      "source": [
        "with open('input.txt', 'r', encoding = 'utf-8') as f:\n",
        "  text = f.read()"
      ],
      "metadata": {
        "id": "3mn9F3AdNju7"
      },
      "execution_count": 6,
      "outputs": []
    },
    {
      "cell_type": "code",
      "source": [
        "print(\"length of characters: \", len(text))"
      ],
      "metadata": {
        "colab": {
          "base_uri": "https://localhost:8080/"
        },
        "id": "a8Wp5uybNzkq",
        "outputId": "2b7bf6ec-6002-457d-bdca-b7a04cb80e91"
      },
      "execution_count": 7,
      "outputs": [
        {
          "output_type": "stream",
          "name": "stdout",
          "text": [
            "length of characters:  2864550\n"
          ]
        }
      ]
    },
    {
      "cell_type": "code",
      "source": [
        "print(text[:5000])"
      ],
      "metadata": {
        "colab": {
          "base_uri": "https://localhost:8080/"
        },
        "collapsed": true,
        "id": "GZ_3q-7PN7I0",
        "outputId": "539389f1-8e35-4bc7-bc08-473bc1441df8"
      },
      "execution_count": 9,
      "outputs": [
        {
          "output_type": "stream",
          "name": "stdout",
          "text": [
            "\fGOD CREATED\n",
            "THE INTEGERS\n",
            "\n",
            "\fGOD CREATED THE INTEGERS\n",
            "THE MATHEMATICAL BREAKTHROUGHS THAT CHANGED HISTORY\n",
            "\n",
            "EDITED, WITH COMMENTARY, BY\n",
            "\n",
            "STEPHEN\n",
            "HAWKING\n",
            "\n",
            "RUNNING PRESS\n",
            "PHILADELPHIA • LONDON\n",
            "\fCONTENTS\n",
            "Introduction\n",
            "\n",
            "EUCLID\n",
            "(C. 325BC–265BC)\n",
            "His Life and Work\n",
            "Selections from Euclid’s Elements\n",
            "Book I: Basic Geometry—Definitions, Postulates, Common Notions; and\n",
            "Proposition 47, (leading up to the Pythagorean Theorem)\n",
            "Book V: The Eudoxian Theory of Proportion—Definitions & Propositions\n",
            "Book VII: Elementary Number Theory—Definitions & Propositions\n",
            "Book IX: Proposition 20: The Infinitude of Prime Numbers\n",
            "Book IX: Proposition 36: Even Perfect Numbers\n",
            "Book X: Commensurable and Incommensurable Magnitudes\n",
            "\n",
            "ARCHIMEDES\n",
            "(287BC–212BC)\n",
            "His Life and Work\n",
            "Selections from The Works of Archimedes\n",
            "On the Sphere and Cylinder, Books I and II\n",
            "Measurement of a Circle\n",
            "The Sand Reckoner\n",
            "The Methods\n",
            "\n",
            "DIOPHANTUS\n",
            "(C. 200–284)\n",
            "His Life and Work\n",
            "Selections from Diophantus of Alexandria, A Study in the History of Greek\n",
            "Algebra\n",
            "Book II Problems 8–35\n",
            "\n",
            "\fBook III Problems 5–21\n",
            "Book V Problems 1–29\n",
            "\n",
            "RENÉ DESCARTES\n",
            "(1596–1650)\n",
            "His Life and Work\n",
            "The Geometry of Rene Descartes\n",
            "\n",
            "ISAAC NEWTON\n",
            "(1642–1727)\n",
            "His Life and Work\n",
            "Selections from Principia\n",
            "On First and Last Ratios of Quantities\n",
            "\n",
            "LEONHARD EULER\n",
            "(1707–1783)\n",
            "His Life and Work\n",
            "On the sums of series of reciprocals (De summis serierum reciprocarum)\n",
            "The Seven Bridges of Konigsberg\n",
            "Proof that Every Integer is A Sum of Four Squares\n",
            "\n",
            "PIERRE SIMON LAPLACE\n",
            "(1749–1827)\n",
            "His Life and Work\n",
            "A Philosophical Essay on Probabilities\n",
            "\n",
            "JEAN BAPTISTE JOSEPH FOURIER\n",
            "(1768–1830)\n",
            "His Life and Work\n",
            "Selection from The Analytical Theory of Heat\n",
            "Chapter III: Propagation of Heat in an Infinite Rectangular Solid (The\n",
            "Fourier series)\n",
            "\n",
            "\fCARL FRIEDRICH GAUSS\n",
            "(1777–1855)\n",
            "His Life and Work\n",
            "Selections from Disquisitiones Arithmeticae (Arithmetic Disquisitions)\n",
            "Section III Residues of Powers\n",
            "Section IV Congruences of the Second Degree\n",
            "\n",
            "AUGUSTIN-LOUIS CAUCHY\n",
            "(1789–1857)\n",
            "His Life and Work\n",
            "Selections from Oeuvres complètes d’Augustin Cauchy Résumé des leçons\n",
            "données à l’École Royale Polytechnique sur le calcul infinitésimal (1823), series\n",
            "2, vol. 4\n",
            "Lessons 3–4 on differential calculus\n",
            "Lessons 21–24 on the integral\n",
            "\n",
            "NIKOLAI IVANOVICH LOBACHEVSKY\n",
            "(1792–1856)\n",
            "His Life and Work\n",
            "Geometrical Researches on the Theory of Parallels\n",
            "\n",
            "JÁNOS BOLYAI\n",
            "(1802–1860)\n",
            "His Life and Work\n",
            "The Science of Absolute Space\n",
            "\n",
            "ÉVARISTE GALOIS\n",
            "(1811–1832)\n",
            "His Life and Work\n",
            "On the conditions that an equation be soluble by radicals\n",
            "Of the primitive equations which are soluble by radicals\n",
            "On Groups and Equations and Abelian Integrals\n",
            "\n",
            "\fGEORGE BOOLE\n",
            "(1815–1864)\n",
            "His Life and Work\n",
            "An Investigation of the Laws of Thought\n",
            "\n",
            "BERNHARD RIEMANN\n",
            "(1826–1866)\n",
            "His Life and Work\n",
            "On the Representability of a Function by Means of a Trigonometric Series\n",
            "(Ueber die Darstellbarkeit eine Function durch einer trigonometrische Reihe)\n",
            "On the Hypotheses which lie at the Bases of Geometry (Ueber die Hypothesen,\n",
            "welche der Geometrie zu Grunde liegen)\n",
            "On the Number of Prime Numbers Less than a Given Quantity (Ueber die\n",
            "Anzahl der Primzahlen unter einer gegebenen Grösse)\n",
            "\n",
            "KARL WEIERSTRASS\n",
            "(1815–1897)\n",
            "His Life and Work\n",
            "Selected Chapters on the Theory of Functions, Lecture Given in Berlin in 1886,\n",
            "with the Inaugural Academic Speech, Berlin 1857\n",
            "§ 7 Gleichmässige Stetigkeit (Uniform Continuity)\n",
            "\n",
            "RICHARD DEDEKIND\n",
            "(1831–1916)\n",
            "His Life and Work\n",
            "Essays on the Theory of Numbers\n",
            "\n",
            "GEORG CANTOR\n",
            "(1848–1918)\n",
            "His Life and Work\n",
            "Selections from Contributions to the Founding of the Theory of Transfinite\n",
            "Numbers\n",
            "Articles I and II\n",
            "\n",
            "\fHENRI LEBESGUE\n",
            "(1875–1941)\n",
            "His Life and Work\n",
            "Selections from Integrale, Longeur, Aire (Intergral, Length, Area)\n",
            "Preliminaries and Integral\n",
            "\n",
            "KURT GÖDEL\n",
            "(1906–1978)\n",
            "His Life and Work\n",
            "On Formally Undecidable Propositions of Principia Mathematica and Related\n",
            "Systems\n",
            "\n",
            "ALAN TURING\n",
            "(1912–1954)\n",
            "His Life and Work\n",
            "On computable numbers with an application to the Entscheidungsproblem,\n",
            "Proceedings of the London Mathematical Society\n",
            "\n",
            "\fINTRODUCTION\n",
            "WE ARE LUCKY TO LIVE IN AN AGE LN WHICH WE ARE\n",
            "STILL MAKING DISCOVERIES. IT IS LIKE THE DISCOVERY\n",
            "OF AMERICA-YOU ONLY DISCOVER IT ONCE. THE AGE IN\n",
            "WHICH WE LIVE IS THE AGE IN WHICH WE ARE\n",
            "DISCOVERING THE FUNDAMENTAL LAWS OF NATURE . . .\n",
            "—AMERICAN PHYSICIST RICHARD FEYNMAN, SPOKEN\n",
            "IN 1964\n",
            "\n",
            "S\n",
            "\n",
            "howcasing excerpts from thirty-one of the most important works in the\n",
            "history of mathematics (four of which have been translated into English\n",
            "for the very first time), this book is a celebration of the mathematicians\n",
            "who helped move us forward in our understanding of the world and who paved\n",
            "the way for our current age of science and technology.\n",
            "Over the centuries, the efforts of these mathematicians have helped the\n",
            "human race to achieve great insight into nature, such as the realization that the\n",
            "earth is round, that the same force that causes an apple to fall here on earth is\n",
            "also responsible for the motions of the heavenly bodies, that space is finite and\n",
            "not eternal, that\n"
          ]
        }
      ]
    },
    {
      "cell_type": "code",
      "source": [
        "chars = sorted(list(set(text)))\n",
        "vocab_size = len(chars)\n",
        "print(''.join(chars))\n",
        "print(vocab_size)"
      ],
      "metadata": {
        "colab": {
          "base_uri": "https://localhost:8080/"
        },
        "id": "yJlZzl6bOJmh",
        "outputId": "8c54fd32-d26f-479d-8ccc-a52d346dd242"
      },
      "execution_count": 10,
      "outputs": [
        {
          "output_type": "stream",
          "name": "stdout",
          "text": [
            "\n",
            "\f !$%&()*+,-./0123456789:;<=>?@ABCDEFGHIJKLMNOPQRSTUVWXYZ[]_abcdefghijklmnopqrstuvwxyz{|}~£§¯°±µ·½ÁÈÉÖ×Üàáâäæçèéêëîïòóôö÷üĀāīŒœŚşŨūƒəʅΓΔΘΙΛΞΠΣΦΨΩέΰαβγδεζηθκλμνξοπρςστυφχψωύϕϵ–—‘’“”‡•…′″‴Ω⅓→↔∊∏∑−∓∞∠∥∫∴≅≠≡≤≥⊢⊥\n",
            "208\n"
          ]
        }
      ]
    },
    {
      "cell_type": "code",
      "source": [
        "# prompt: mapping from characters to integers\n",
        "\n",
        "stoi = { ch:i for i,ch in enumerate(chars) }\n",
        "itos = { i:ch for i,ch in enumerate(chars) }\n",
        "encode = lambda s: [stoi[c] for c in s]\n",
        "decode = lambda l: ''.join([itos[i] for i in l])\n",
        "\n",
        "print(encode(\"hii there\"))\n",
        "print(decode(encode(\"hii there\")))"
      ],
      "metadata": {
        "colab": {
          "base_uri": "https://localhost:8080/"
        },
        "id": "w0AZc5V-O4bu",
        "outputId": "1d7fd114-e49f-4a5c-ac9d-75902d5a2870"
      },
      "execution_count": 11,
      "outputs": [
        {
          "output_type": "stream",
          "name": "stdout",
          "text": [
            "[68, 69, 69, 2, 80, 68, 65, 78, 65]\n",
            "hii there\n"
          ]
        }
      ]
    }
  ]
}