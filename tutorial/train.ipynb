{
  "nbformat": 4,
  "nbformat_minor": 0,
  "metadata": {
    "colab": {
      "provenance": [],
      "authorship_tag": "ABX9TyOQyVIpjPh/TvKDee9coUUd",
      "include_colab_link": true
    },
    "kernelspec": {
      "name": "python3",
      "display_name": "Python 3"
    },
    "language_info": {
      "name": "python"
    }
  },
  "cells": [
    {
      "cell_type": "markdown",
      "metadata": {
        "id": "view-in-github",
        "colab_type": "text"
      },
      "source": [
        "<a href=\"https://colab.research.google.com/github/ragavkish/a.n.d.r.e.w./blob/main/train.ipynb\" target=\"_parent\"><img src=\"https://colab.research.google.com/assets/colab-badge.svg\" alt=\"Open In Colab\"/></a>"
      ]
    },
    {
      "cell_type": "code",
      "execution_count": null,
      "metadata": {
        "colab": {
          "base_uri": "https://localhost:8080/"
        },
        "id": "oDmXWU1aLuu4",
        "outputId": "fea1da45-31de-448f-b6cf-f5e24111008d"
      },
      "outputs": [
        {
          "output_type": "stream",
          "name": "stdout",
          "text": [
            "--2024-12-23 06:23:55--  https://raw.githubusercontent.com/ragavkish/a.n.d.r.e.w./refs/heads/main/input.txt\n",
            "Resolving raw.githubusercontent.com (raw.githubusercontent.com)... 185.199.108.133, 185.199.109.133, 185.199.110.133, ...\n",
            "Connecting to raw.githubusercontent.com (raw.githubusercontent.com)|185.199.108.133|:443... connected.\n",
            "HTTP request sent, awaiting response... 200 OK\n",
            "Length: 2896107 (2.8M) [text/plain]\n",
            "Saving to: ‘input.txt’\n",
            "\n",
            "input.txt           100%[===================>]   2.76M  --.-KB/s    in 0.03s   \n",
            "\n",
            "2024-12-23 06:23:56 (92.5 MB/s) - ‘input.txt’ saved [2896107/2896107]\n",
            "\n"
          ]
        }
      ],
      "source": [
        "!wget https://raw.githubusercontent.com/ragavkish/a.n.d.r.e.w./refs/heads/main/input.txt"
      ]
    },
    {
      "cell_type": "code",
      "source": [
        "with open('input.txt', 'r', encoding = 'utf-8') as f:\n",
        "  text = f.read()"
      ],
      "metadata": {
        "id": "3mn9F3AdNju7"
      },
      "execution_count": null,
      "outputs": []
    },
    {
      "cell_type": "code",
      "source": [
        "print(\"length of characters: \", len(text))"
      ],
      "metadata": {
        "colab": {
          "base_uri": "https://localhost:8080/"
        },
        "id": "a8Wp5uybNzkq",
        "outputId": "2b7bf6ec-6002-457d-bdca-b7a04cb80e91"
      },
      "execution_count": null,
      "outputs": [
        {
          "output_type": "stream",
          "name": "stdout",
          "text": [
            "length of characters:  2864550\n"
          ]
        }
      ]
    },
    {
      "cell_type": "code",
      "source": [
        "print(text[:5000])"
      ],
      "metadata": {
        "colab": {
          "base_uri": "https://localhost:8080/"
        },
        "collapsed": true,
        "id": "GZ_3q-7PN7I0",
        "outputId": "539389f1-8e35-4bc7-bc08-473bc1441df8"
      },
      "execution_count": null,
      "outputs": [
        {
          "output_type": "stream",
          "name": "stdout",
          "text": [
            "\fGOD CREATED\n",
            "THE INTEGERS\n",
            "\n",
            "\fGOD CREATED THE INTEGERS\n",
            "THE MATHEMATICAL BREAKTHROUGHS THAT CHANGED HISTORY\n",
            "\n",
            "EDITED, WITH COMMENTARY, BY\n",
            "\n",
            "STEPHEN\n",
            "HAWKING\n",
            "\n",
            "RUNNING PRESS\n",
            "PHILADELPHIA • LONDON\n",
            "\fCONTENTS\n",
            "Introduction\n",
            "\n",
            "EUCLID\n",
            "(C. 325BC–265BC)\n",
            "His Life and Work\n",
            "Selections from Euclid’s Elements\n",
            "Book I: Basic Geometry—Definitions, Postulates, Common Notions; and\n",
            "Proposition 47, (leading up to the Pythagorean Theorem)\n",
            "Book V: The Eudoxian Theory of Proportion—Definitions & Propositions\n",
            "Book VII: Elementary Number Theory—Definitions & Propositions\n",
            "Book IX: Proposition 20: The Infinitude of Prime Numbers\n",
            "Book IX: Proposition 36: Even Perfect Numbers\n",
            "Book X: Commensurable and Incommensurable Magnitudes\n",
            "\n",
            "ARCHIMEDES\n",
            "(287BC–212BC)\n",
            "His Life and Work\n",
            "Selections from The Works of Archimedes\n",
            "On the Sphere and Cylinder, Books I and II\n",
            "Measurement of a Circle\n",
            "The Sand Reckoner\n",
            "The Methods\n",
            "\n",
            "DIOPHANTUS\n",
            "(C. 200–284)\n",
            "His Life and Work\n",
            "Selections from Diophantus of Alexandria, A Study in the History of Greek\n",
            "Algebra\n",
            "Book II Problems 8–35\n",
            "\n",
            "\fBook III Problems 5–21\n",
            "Book V Problems 1–29\n",
            "\n",
            "RENÉ DESCARTES\n",
            "(1596–1650)\n",
            "His Life and Work\n",
            "The Geometry of Rene Descartes\n",
            "\n",
            "ISAAC NEWTON\n",
            "(1642–1727)\n",
            "His Life and Work\n",
            "Selections from Principia\n",
            "On First and Last Ratios of Quantities\n",
            "\n",
            "LEONHARD EULER\n",
            "(1707–1783)\n",
            "His Life and Work\n",
            "On the sums of series of reciprocals (De summis serierum reciprocarum)\n",
            "The Seven Bridges of Konigsberg\n",
            "Proof that Every Integer is A Sum of Four Squares\n",
            "\n",
            "PIERRE SIMON LAPLACE\n",
            "(1749–1827)\n",
            "His Life and Work\n",
            "A Philosophical Essay on Probabilities\n",
            "\n",
            "JEAN BAPTISTE JOSEPH FOURIER\n",
            "(1768–1830)\n",
            "His Life and Work\n",
            "Selection from The Analytical Theory of Heat\n",
            "Chapter III: Propagation of Heat in an Infinite Rectangular Solid (The\n",
            "Fourier series)\n",
            "\n",
            "\fCARL FRIEDRICH GAUSS\n",
            "(1777–1855)\n",
            "His Life and Work\n",
            "Selections from Disquisitiones Arithmeticae (Arithmetic Disquisitions)\n",
            "Section III Residues of Powers\n",
            "Section IV Congruences of the Second Degree\n",
            "\n",
            "AUGUSTIN-LOUIS CAUCHY\n",
            "(1789–1857)\n",
            "His Life and Work\n",
            "Selections from Oeuvres complètes d’Augustin Cauchy Résumé des leçons\n",
            "données à l’École Royale Polytechnique sur le calcul infinitésimal (1823), series\n",
            "2, vol. 4\n",
            "Lessons 3–4 on differential calculus\n",
            "Lessons 21–24 on the integral\n",
            "\n",
            "NIKOLAI IVANOVICH LOBACHEVSKY\n",
            "(1792–1856)\n",
            "His Life and Work\n",
            "Geometrical Researches on the Theory of Parallels\n",
            "\n",
            "JÁNOS BOLYAI\n",
            "(1802–1860)\n",
            "His Life and Work\n",
            "The Science of Absolute Space\n",
            "\n",
            "ÉVARISTE GALOIS\n",
            "(1811–1832)\n",
            "His Life and Work\n",
            "On the conditions that an equation be soluble by radicals\n",
            "Of the primitive equations which are soluble by radicals\n",
            "On Groups and Equations and Abelian Integrals\n",
            "\n",
            "\fGEORGE BOOLE\n",
            "(1815–1864)\n",
            "His Life and Work\n",
            "An Investigation of the Laws of Thought\n",
            "\n",
            "BERNHARD RIEMANN\n",
            "(1826–1866)\n",
            "His Life and Work\n",
            "On the Representability of a Function by Means of a Trigonometric Series\n",
            "(Ueber die Darstellbarkeit eine Function durch einer trigonometrische Reihe)\n",
            "On the Hypotheses which lie at the Bases of Geometry (Ueber die Hypothesen,\n",
            "welche der Geometrie zu Grunde liegen)\n",
            "On the Number of Prime Numbers Less than a Given Quantity (Ueber die\n",
            "Anzahl der Primzahlen unter einer gegebenen Grösse)\n",
            "\n",
            "KARL WEIERSTRASS\n",
            "(1815–1897)\n",
            "His Life and Work\n",
            "Selected Chapters on the Theory of Functions, Lecture Given in Berlin in 1886,\n",
            "with the Inaugural Academic Speech, Berlin 1857\n",
            "§ 7 Gleichmässige Stetigkeit (Uniform Continuity)\n",
            "\n",
            "RICHARD DEDEKIND\n",
            "(1831–1916)\n",
            "His Life and Work\n",
            "Essays on the Theory of Numbers\n",
            "\n",
            "GEORG CANTOR\n",
            "(1848–1918)\n",
            "His Life and Work\n",
            "Selections from Contributions to the Founding of the Theory of Transfinite\n",
            "Numbers\n",
            "Articles I and II\n",
            "\n",
            "\fHENRI LEBESGUE\n",
            "(1875–1941)\n",
            "His Life and Work\n",
            "Selections from Integrale, Longeur, Aire (Intergral, Length, Area)\n",
            "Preliminaries and Integral\n",
            "\n",
            "KURT GÖDEL\n",
            "(1906–1978)\n",
            "His Life and Work\n",
            "On Formally Undecidable Propositions of Principia Mathematica and Related\n",
            "Systems\n",
            "\n",
            "ALAN TURING\n",
            "(1912–1954)\n",
            "His Life and Work\n",
            "On computable numbers with an application to the Entscheidungsproblem,\n",
            "Proceedings of the London Mathematical Society\n",
            "\n",
            "\fINTRODUCTION\n",
            "WE ARE LUCKY TO LIVE IN AN AGE LN WHICH WE ARE\n",
            "STILL MAKING DISCOVERIES. IT IS LIKE THE DISCOVERY\n",
            "OF AMERICA-YOU ONLY DISCOVER IT ONCE. THE AGE IN\n",
            "WHICH WE LIVE IS THE AGE IN WHICH WE ARE\n",
            "DISCOVERING THE FUNDAMENTAL LAWS OF NATURE . . .\n",
            "—AMERICAN PHYSICIST RICHARD FEYNMAN, SPOKEN\n",
            "IN 1964\n",
            "\n",
            "S\n",
            "\n",
            "howcasing excerpts from thirty-one of the most important works in the\n",
            "history of mathematics (four of which have been translated into English\n",
            "for the very first time), this book is a celebration of the mathematicians\n",
            "who helped move us forward in our understanding of the world and who paved\n",
            "the way for our current age of science and technology.\n",
            "Over the centuries, the efforts of these mathematicians have helped the\n",
            "human race to achieve great insight into nature, such as the realization that the\n",
            "earth is round, that the same force that causes an apple to fall here on earth is\n",
            "also responsible for the motions of the heavenly bodies, that space is finite and\n",
            "not eternal, that\n"
          ]
        }
      ]
    },
    {
      "cell_type": "code",
      "source": [
        "chars = sorted(list(set(text)))\n",
        "vocab_size = len(chars)\n",
        "print(''.join(chars))\n",
        "print(vocab_size)"
      ],
      "metadata": {
        "colab": {
          "base_uri": "https://localhost:8080/"
        },
        "id": "yJlZzl6bOJmh",
        "outputId": "8c54fd32-d26f-479d-8ccc-a52d346dd242"
      },
      "execution_count": null,
      "outputs": [
        {
          "output_type": "stream",
          "name": "stdout",
          "text": [
            "\n",
            "\f !$%&()*+,-./0123456789:;<=>?@ABCDEFGHIJKLMNOPQRSTUVWXYZ[]_abcdefghijklmnopqrstuvwxyz{|}~£§¯°±µ·½ÁÈÉÖ×Üàáâäæçèéêëîïòóôö÷üĀāīŒœŚşŨūƒəʅΓΔΘΙΛΞΠΣΦΨΩέΰαβγδεζηθκλμνξοπρςστυφχψωύϕϵ–—‘’“”‡•…′″‴Ω⅓→↔∊∏∑−∓∞∠∥∫∴≅≠≡≤≥⊢⊥\n",
            "208\n"
          ]
        }
      ]
    },
    {
      "cell_type": "code",
      "source": [
        "# prompt: mapping from characters to integers\n",
        "\n",
        "stoi = { ch:i for i,ch in enumerate(chars) }\n",
        "itos = { i:ch for i,ch in enumerate(chars) }\n",
        "encode = lambda s: [stoi[c] for c in s]\n",
        "decode = lambda l: ''.join([itos[i] for i in l])\n",
        "\n",
        "print(encode(\"hii there\"))\n",
        "print(decode(encode(\"hii there\")))"
      ],
      "metadata": {
        "colab": {
          "base_uri": "https://localhost:8080/"
        },
        "id": "w0AZc5V-O4bu",
        "outputId": "1d7fd114-e49f-4a5c-ac9d-75902d5a2870"
      },
      "execution_count": null,
      "outputs": [
        {
          "output_type": "stream",
          "name": "stdout",
          "text": [
            "[68, 69, 69, 2, 80, 68, 65, 78, 65]\n",
            "hii there\n"
          ]
        }
      ]
    },
    {
      "cell_type": "code",
      "source": [
        "import torch\n",
        "data = torch.tensor(encode(text), dtype=torch.long)\n",
        "print(data.shape, data.dtype)\n",
        "print(data[:1000])"
      ],
      "metadata": {
        "colab": {
          "base_uri": "https://localhost:8080/"
        },
        "collapsed": true,
        "id": "vzBvjTTbQlP6",
        "outputId": "1c1b5b2c-f721-41b2-8b39-58ef7f0ccc15"
      },
      "execution_count": null,
      "outputs": [
        {
          "output_type": "stream",
          "name": "stdout",
          "text": [
            "torch.Size([2864550]) torch.int64\n",
            "tensor([  1,  38,  46,  35,   2,  34,  49,  36,  32,  51,  36,  35,   0,  51,\n",
            "         39,  36,   2,  40,  45,  51,  36,  38,  36,  49,  50,   0,   0,   1,\n",
            "         38,  46,  35,   2,  34,  49,  36,  32,  51,  36,  35,   2,  51,  39,\n",
            "         36,   2,  40,  45,  51,  36,  38,  36,  49,  50,   0,  51,  39,  36,\n",
            "          2,  44,  32,  51,  39,  36,  44,  32,  51,  40,  34,  32,  43,   2,\n",
            "         33,  49,  36,  32,  42,  51,  39,  49,  46,  52,  38,  39,  50,   2,\n",
            "         51,  39,  32,  51,   2,  34,  39,  32,  45,  38,  36,  35,   2,  39,\n",
            "         40,  50,  51,  46,  49,  56,   0,   0,  36,  35,  40,  51,  36,  35,\n",
            "         11,   2,  54,  40,  51,  39,   2,  34,  46,  44,  44,  36,  45,  51,\n",
            "         32,  49,  56,  11,   2,  33,  56,   0,   0,  50,  51,  36,  47,  39,\n",
            "         36,  45,   0,  39,  32,  54,  42,  40,  45,  38,   0,   0,  49,  52,\n",
            "         45,  45,  40,  45,  38,   2,  47,  49,  36,  50,  50,   0,  47,  39,\n",
            "         40,  43,  32,  35,  36,  43,  47,  39,  40,  32,   2, 182,   2,  43,\n",
            "         46,  45,  35,  46,  45,   0,   1,  34,  46,  45,  51,  36,  45,  51,\n",
            "         50,   0,  40,  74,  80,  78,  75,  64,  81,  63,  80,  69,  75,  74,\n",
            "          0,   0,  36,  52,  34,  43,  40,  35,   0,   7,  34,  13,   2,  18,\n",
            "         17,  20,  33,  34, 175,  17,  21,  20,  33,  34,   8,   0,  39,  69,\n",
            "         79,   2,  43,  69,  66,  65,   2,  61,  74,  64,   2,  54,  75,  78,\n",
            "         71,   0,  50,  65,  72,  65,  63,  80,  69,  75,  74,  79,   2,  66,\n",
            "         78,  75,  73,   2,  36,  81,  63,  72,  69,  64, 178,  79,   2,  36,\n",
            "         72,  65,  73,  65,  74,  80,  79,   0,  33,  75,  75,  71,   2,  40,\n",
            "         25,   2,  33,  61,  79,  69,  63,   2,  38,  65,  75,  73,  65,  80,\n",
            "         78,  85, 176,  35,  65,  66,  69,  74,  69,  80,  69,  75,  74,  79,\n",
            "         11,   2,  47,  75,  79,  80,  81,  72,  61,  80,  65,  79,  11,   2,\n",
            "         34,  75,  73,  73,  75,  74,   2,  45,  75,  80,  69,  75,  74,  79,\n",
            "         26,   2,  61,  74,  64,   0,  47,  78,  75,  76,  75,  79,  69,  80,\n",
            "         69,  75,  74,   2,  19,  22,  11,   2,   7,  72,  65,  61,  64,  69,\n",
            "         74,  67,   2,  81,  76,   2,  80,  75,   2,  80,  68,  65,   2,  47,\n",
            "         85,  80,  68,  61,  67,  75,  78,  65,  61,  74,   2,  51,  68,  65,\n",
            "         75,  78,  65,  73,   8,   0,  33,  75,  75,  71,   2,  53,  25,   2,\n",
            "         51,  68,  65,   2,  36,  81,  64,  75,  84,  69,  61,  74,   2,  51,\n",
            "         68,  65,  75,  78,  85,   2,  75,  66,   2,  47,  78,  75,  76,  75,\n",
            "         78,  80,  69,  75,  74, 176,  35,  65,  66,  69,  74,  69,  80,  69,\n",
            "         75,  74,  79,   2,   6,   2,  47,  78,  75,  76,  75,  79,  69,  80,\n",
            "         69,  75,  74,  79,   0,  33,  75,  75,  71,   2,  53,  40,  40,  25,\n",
            "          2,  36,  72,  65,  73,  65,  74,  80,  61,  78,  85,   2,  45,  81,\n",
            "         73,  62,  65,  78,   2,  51,  68,  65,  75,  78,  85, 176,  35,  65,\n",
            "         66,  69,  74,  69,  80,  69,  75,  74,  79,   2,   6,   2,  47,  78,\n",
            "         75,  76,  75,  79,  69,  80,  69,  75,  74,  79,   0,  33,  75,  75,\n",
            "         71,   2,  40,  55,  25,   2,  47,  78,  75,  76,  75,  79,  69,  80,\n",
            "         69,  75,  74,   2,  17,  15,  25,   2,  51,  68,  65,   2,  40,  74,\n",
            "         66,  69,  74,  69,  80,  81,  64,  65,   2,  75,  66,   2,  47,  78,\n",
            "         69,  73,  65,   2,  45,  81,  73,  62,  65,  78,  79,   0,  33,  75,\n",
            "         75,  71,   2,  40,  55,  25,   2,  47,  78,  75,  76,  75,  79,  69,\n",
            "         80,  69,  75,  74,   2,  18,  21,  25,   2,  36,  82,  65,  74,   2,\n",
            "         47,  65,  78,  66,  65,  63,  80,   2,  45,  81,  73,  62,  65,  78,\n",
            "         79,   0,  33,  75,  75,  71,   2,  55,  25,   2,  34,  75,  73,  73,\n",
            "         65,  74,  79,  81,  78,  61,  62,  72,  65,   2,  61,  74,  64,   2,\n",
            "         40,  74,  63,  75,  73,  73,  65,  74,  79,  81,  78,  61,  62,  72,\n",
            "         65,   2,  44,  61,  67,  74,  69,  80,  81,  64,  65,  79,   0,   0,\n",
            "         32,  49,  34,  39,  40,  44,  36,  35,  36,  50,   0,   7,  17,  23,\n",
            "         22,  33,  34, 175,  17,  16,  17,  33,  34,   8,   0,  39,  69,  79,\n",
            "          2,  43,  69,  66,  65,   2,  61,  74,  64,   2,  54,  75,  78,  71,\n",
            "          0,  50,  65,  72,  65,  63,  80,  69,  75,  74,  79,   2,  66,  78,\n",
            "         75,  73,   2,  51,  68,  65,   2,  54,  75,  78,  71,  79,   2,  75,\n",
            "         66,   2,  32,  78,  63,  68,  69,  73,  65,  64,  65,  79,   0,  46,\n",
            "         74,   2,  80,  68,  65,   2,  50,  76,  68,  65,  78,  65,   2,  61,\n",
            "         74,  64,   2,  34,  85,  72,  69,  74,  64,  65,  78,  11,   2,  33,\n",
            "         75,  75,  71,  79,   2,  40,   2,  61,  74,  64,   2,  40,  40,   0,\n",
            "         44,  65,  61,  79,  81,  78,  65,  73,  65,  74,  80,   2,  75,  66,\n",
            "          2,  61,   2,  34,  69,  78,  63,  72,  65,   0,  51,  68,  65,   2,\n",
            "         50,  61,  74,  64,   2,  49,  65,  63,  71,  75,  74,  65,  78,   0,\n",
            "         51,  68,  65,   2,  44,  65,  80,  68,  75,  64,  79,   0,   0,  35,\n",
            "         40,  46,  47,  39,  32,  45,  51,  52,  50,   0,   7,  34,  13,   2,\n",
            "         17,  15,  15, 175,  17,  23,  19,   8,   0,  39,  69,  79,   2,  43,\n",
            "         69,  66,  65,   2,  61,  74,  64,   2,  54,  75,  78,  71,   0,  50,\n",
            "         65,  72,  65,  63,  80,  69,  75,  74,  79,   2,  66,  78,  75,  73,\n",
            "          2,  35,  69,  75,  76,  68,  61,  74,  80,  81,  79,   2,  75,  66,\n",
            "          2,  32,  72,  65,  84,  61,  74,  64,  78,  69,  61,  11,   2,  32,\n",
            "          2,  50,  80,  81,  64,  85,   2,  69,  74,   2,  80,  68,  65,   2,\n",
            "         39,  69,  79,  80,  75,  78,  85,   2,  75,  66,   2,  38,  78,  65,\n",
            "         65,  71,   0,  32,  72,  67])\n"
          ]
        }
      ]
    },
    {
      "cell_type": "code",
      "source": [
        "n=int(0.9*len(data))\n",
        "train = data[:n]\n",
        "val = data[n:]"
      ],
      "metadata": {
        "id": "V5VLsUKSRGbI"
      },
      "execution_count": null,
      "outputs": []
    },
    {
      "cell_type": "code",
      "source": [
        "block_size = 8\n",
        "train[:block_size+1]"
      ],
      "metadata": {
        "colab": {
          "base_uri": "https://localhost:8080/"
        },
        "id": "9Hs6CuGZSj2H",
        "outputId": "a36c462b-b335-4865-bc89-efbff9d37688"
      },
      "execution_count": null,
      "outputs": [
        {
          "output_type": "execute_result",
          "data": {
            "text/plain": [
              "tensor([ 1, 38, 46, 35,  2, 34, 49, 36, 32])"
            ]
          },
          "metadata": {},
          "execution_count": 25
        }
      ]
    },
    {
      "cell_type": "code",
      "source": [
        "x = train[:block_size]\n",
        "y = train[1:block_size+1]\n",
        "for t in range(block_size):\n",
        "  context = x[:t+1]\n",
        "  target = y[t]\n",
        "  print(f\"when input is {context} the target: {target}\")"
      ],
      "metadata": {
        "colab": {
          "base_uri": "https://localhost:8080/"
        },
        "id": "wZ6VR4crS8kV",
        "outputId": "d941dd4d-fb89-435d-9e6c-7abe9d5390c9"
      },
      "execution_count": null,
      "outputs": [
        {
          "output_type": "stream",
          "name": "stdout",
          "text": [
            "when input is tensor([1]) the target: 38\n",
            "when input is tensor([ 1, 38]) the target: 46\n",
            "when input is tensor([ 1, 38, 46]) the target: 35\n",
            "when input is tensor([ 1, 38, 46, 35]) the target: 2\n",
            "when input is tensor([ 1, 38, 46, 35,  2]) the target: 34\n",
            "when input is tensor([ 1, 38, 46, 35,  2, 34]) the target: 49\n",
            "when input is tensor([ 1, 38, 46, 35,  2, 34, 49]) the target: 36\n",
            "when input is tensor([ 1, 38, 46, 35,  2, 34, 49, 36]) the target: 32\n"
          ]
        }
      ]
    },
    {
      "cell_type": "code",
      "source": [
        "torch.manual_seed(1337)\n",
        "batch_size = 4\n",
        "block_size = 8\n",
        "\n",
        "def get_batch(split):\n",
        "  data = train if split == 'train' else val\n",
        "  ix = torch.randint(len(data) - block_size, (batch_size,))\n",
        "  x = torch.stack([data[i:i+block_size] for i in ix])\n",
        "  y = torch.stack([data[i+1:i+block_size+1] for i in ix])\n",
        "  return x, y\n",
        "\n",
        "xb, yb = get_batch('train')\n",
        "print('inputs:')\n",
        "print(xb.shape)\n",
        "print(xb)\n",
        "print('targets:')\n",
        "print(yb.shape)\n",
        "print(yb)\n",
        "\n",
        "print('----')\n",
        "\n",
        "for b in range(batch_size):\n",
        "  for t in range(block_size):\n",
        "    context = xb[b, :t+1]\n",
        "    target = yb[b,t]\n",
        "    print(f\"when input is {context.tolist()} the target: {target}\")"
      ],
      "metadata": {
        "colab": {
          "base_uri": "https://localhost:8080/"
        },
        "id": "kkWGKzLMWUq_",
        "outputId": "f2541409-07d5-43fd-d08e-5d4eebabdc62"
      },
      "execution_count": null,
      "outputs": [
        {
          "output_type": "stream",
          "name": "stdout",
          "text": [
            "inputs:\n",
            "torch.Size([4, 8])\n",
            "tensor([[83, 68, 65, 74,  2, 80, 68, 65],\n",
            "        [81, 72, 80, 69, 65, 79, 11,  2],\n",
            "        [68, 65,  0, 80, 78, 61, 74, 79],\n",
            "        [69, 74, 65, 79,  2, 61, 79,  2]])\n",
            "targets:\n",
            "torch.Size([4, 8])\n",
            "tensor([[68, 65, 74,  2, 80, 68, 65, 69],\n",
            "        [72, 80, 69, 65, 79, 11,  2, 75],\n",
            "        [65,  0, 80, 78, 61, 74, 79, 66],\n",
            "        [74, 65, 79,  2, 61, 79,  2, 47]])\n",
            "----\n",
            "when input is [83] the target: 68\n",
            "when input is [83, 68] the target: 65\n",
            "when input is [83, 68, 65] the target: 74\n",
            "when input is [83, 68, 65, 74] the target: 2\n",
            "when input is [83, 68, 65, 74, 2] the target: 80\n",
            "when input is [83, 68, 65, 74, 2, 80] the target: 68\n",
            "when input is [83, 68, 65, 74, 2, 80, 68] the target: 65\n",
            "when input is [83, 68, 65, 74, 2, 80, 68, 65] the target: 69\n",
            "when input is [81] the target: 72\n",
            "when input is [81, 72] the target: 80\n",
            "when input is [81, 72, 80] the target: 69\n",
            "when input is [81, 72, 80, 69] the target: 65\n",
            "when input is [81, 72, 80, 69, 65] the target: 79\n",
            "when input is [81, 72, 80, 69, 65, 79] the target: 11\n",
            "when input is [81, 72, 80, 69, 65, 79, 11] the target: 2\n",
            "when input is [81, 72, 80, 69, 65, 79, 11, 2] the target: 75\n",
            "when input is [68] the target: 65\n",
            "when input is [68, 65] the target: 0\n",
            "when input is [68, 65, 0] the target: 80\n",
            "when input is [68, 65, 0, 80] the target: 78\n",
            "when input is [68, 65, 0, 80, 78] the target: 61\n",
            "when input is [68, 65, 0, 80, 78, 61] the target: 74\n",
            "when input is [68, 65, 0, 80, 78, 61, 74] the target: 79\n",
            "when input is [68, 65, 0, 80, 78, 61, 74, 79] the target: 66\n",
            "when input is [69] the target: 74\n",
            "when input is [69, 74] the target: 65\n",
            "when input is [69, 74, 65] the target: 79\n",
            "when input is [69, 74, 65, 79] the target: 2\n",
            "when input is [69, 74, 65, 79, 2] the target: 61\n",
            "when input is [69, 74, 65, 79, 2, 61] the target: 79\n",
            "when input is [69, 74, 65, 79, 2, 61, 79] the target: 2\n",
            "when input is [69, 74, 65, 79, 2, 61, 79, 2] the target: 47\n"
          ]
        }
      ]
    },
    {
      "cell_type": "code",
      "source": [
        "print(xb)"
      ],
      "metadata": {
        "colab": {
          "base_uri": "https://localhost:8080/"
        },
        "id": "nVsC6S1uXXWO",
        "outputId": "abda7d67-7695-4135-e8bf-094a076d6c28"
      },
      "execution_count": null,
      "outputs": [
        {
          "output_type": "stream",
          "name": "stdout",
          "text": [
            "tensor([[83, 68, 65, 74,  2, 80, 68, 65],\n",
            "        [81, 72, 80, 69, 65, 79, 11,  2],\n",
            "        [68, 65,  0, 80, 78, 61, 74, 79],\n",
            "        [69, 74, 65, 79,  2, 61, 79,  2]])\n"
          ]
        }
      ]
    },
    {
      "cell_type": "code",
      "source": [
        "import torch\n",
        "import torch.nn as nn\n",
        "from torch.nn import functional as F\n",
        "torch.manual_seed(1337)\n",
        "\n",
        "class BigramLanguageModel(nn.Module):\n",
        "\n",
        "  def __init__(self, vocab_size):\n",
        "    super().__init__()\n",
        "    self.token_embedding_table = nn.Embedding(vocab_size, vocab_size)\n",
        "\n",
        "  def forward(self, idx, targets=None):\n",
        "\n",
        "    logits = self.token_embedding_table(idx)\n",
        "\n",
        "    if targets is None:\n",
        "      loss = None\n",
        "    else:\n",
        "      B, T, C = logits.shape\n",
        "      logits = logits.view(B*T, C)\n",
        "      targets =  targets.view(B*T)\n",
        "      loss = F.cross_entropy(logits, targets)\n",
        "\n",
        "    return logits, loss\n",
        "\n",
        "  def generate(self, idx, max_new_tokens):\n",
        "    for _ in range(max_new_tokens):\n",
        "      logits, loss = self(idx)\n",
        "      logits = logits[:, -1, :]\n",
        "      probs = F.softmax(logits, dim=-1)\n",
        "      idx_next = torch.multinomial(probs, num_samples=1)\n",
        "      idx = torch.cat((idx, idx_next), dim=1)\n",
        "    return idx\n",
        "\n",
        "m = BigramLanguageModel(vocab_size)\n",
        "logits, loss = m(xb, yb)\n",
        "print(logits.shape)\n",
        "print(loss)\n",
        "\n",
        "\n",
        "print(decode(m.generate(idx = torch.zeros((1,1), dtype=torch.long), max_new_tokens=100)[0].tolist()))"
      ],
      "metadata": {
        "colab": {
          "base_uri": "https://localhost:8080/"
        },
        "id": "3idA8vsUg5qC",
        "outputId": "c36a9715-6aca-4430-c295-ede968dda5bc"
      },
      "execution_count": null,
      "outputs": [
        {
          "output_type": "stream",
          "name": "stdout",
          "text": [
            "torch.Size([32, 208])\n",
            "tensor(5.8508, grad_fn=<NllLossBackward0>)\n",
            "\n",
            "Wjp¯ρ∞ξγ…ʅ“É 9GçMσ′ύàʅχεcχ×|tA\fΩΩ[Ö;ωæ°±−bü0ληəÜʅχÈ⊢Ām‘Éε≠ZCJîï435Ξψπ>ü’Ιδ…pvΰΨβüYρ∥a4±$µ%*Π%ερæîj£c\n"
          ]
        }
      ]
    },
    {
      "cell_type": "code",
      "source": [
        "optimizer = torch.optim.AdamW(m.parameters(), lr=1e-3)"
      ],
      "metadata": {
        "id": "thEDGw9Q0wWK"
      },
      "execution_count": null,
      "outputs": []
    },
    {
      "cell_type": "code",
      "source": [
        "batch_size = 32\n",
        "for steps in range(10000):\n",
        "\n",
        "  xb, yb = get_batch('train')\n",
        "\n",
        "  logits, loss = m(xb, yb)\n",
        "  optimizer.zero_grad(set_to_none=True)\n",
        "  loss.backward()\n",
        "  optimizer.step()\n",
        "\n",
        "print(loss.item())"
      ],
      "metadata": {
        "colab": {
          "base_uri": "https://localhost:8080/"
        },
        "id": "ns2WcVx81Ghc",
        "outputId": "3cbea2e6-3606-4508-83f4-b9b2612f6b2a"
      },
      "execution_count": null,
      "outputs": [
        {
          "output_type": "stream",
          "name": "stdout",
          "text": [
            "2.478816270828247\n"
          ]
        }
      ]
    },
    {
      "cell_type": "code",
      "source": [
        "print(decode(m.generate(idx = torch.zeros((1,1), dtype=torch.long), max_new_tokens=500)[0].tolist()))"
      ],
      "metadata": {
        "colab": {
          "base_uri": "https://localhost:8080/"
        },
        "id": "jt6b3XiS2QmQ",
        "outputId": "523ee75b-bc35-4931-a01a-863fc21f1a2d"
      },
      "execution_count": null,
      "outputs": [
        {
          "output_type": "stream",
          "name": "stdout",
          "text": [
            "\n",
            "\n",
            "chistheimeng d s emers istithenif and G(bery l tofongrth br + α). bu = st the tand whingreo gion\n",
            "on e, of ive isinanatond tr . E an F th\n",
            "athe whondinjuas to f 0\n",
            "rsubll acondumeth x,” X TR o x.\n",
            "Se. an, fithereives TE an isavach isw CAR ruathys 1.\n",
            "tof y to tathibes me wheexprmeamay tlome\n",
            "as f te f\n",
            "\n",
            "l th wof m, tong riodusthego t ont thar theconereime s, pon ichin m chetodishin im, as lo the plimathe 81):\n",
            "catofore elag − st\n",
            "respollle\n",
            "vectar at,\n",
            "cangrisord co alere it\n",
            "Sunofin oreden d ithe des beme\n"
          ]
        }
      ]
    },
    {
      "cell_type": "code",
      "source": [
        "torch.manual_seed(1337)\n",
        "B,T,C = 4,8,2\n",
        "x = torch.randn(B,T,C)\n",
        "x.shape\n"
      ],
      "metadata": {
        "colab": {
          "base_uri": "https://localhost:8080/"
        },
        "id": "R6fEmGqzCtC1",
        "outputId": "b9691cb6-5ee3-4fab-d653-e8832f57c2dd"
      },
      "execution_count": null,
      "outputs": [
        {
          "output_type": "execute_result",
          "data": {
            "text/plain": [
              "torch.Size([4, 8, 2])"
            ]
          },
          "metadata": {},
          "execution_count": 62
        }
      ]
    },
    {
      "cell_type": "code",
      "source": [
        "xbow = torch.zeros((B,T,C))\n",
        "for b in range(B):\n",
        "  for t in range(T):\n",
        "    xprev = x[b,:t+1]\n",
        "    xbow[b,t] = torch.mean(xprev, 0)"
      ],
      "metadata": {
        "id": "P6T72ecQJh_a"
      },
      "execution_count": null,
      "outputs": []
    },
    {
      "cell_type": "code",
      "source": [
        "wei = torch.tril(torch.ones(T, T))\n",
        "wei = wei / wei.sum(1, keepdim=True)\n",
        "xbow2 = wei @ x\n",
        "torch.allclose(xbow, xbow2)"
      ],
      "metadata": {
        "colab": {
          "base_uri": "https://localhost:8080/"
        },
        "id": "ZL6r8GOjL4YV",
        "outputId": "efa3772d-85e4-477f-d445-10050b0b3d07"
      },
      "execution_count": null,
      "outputs": [
        {
          "output_type": "execute_result",
          "data": {
            "text/plain": [
              "False"
            ]
          },
          "metadata": {},
          "execution_count": 64
        }
      ]
    },
    {
      "cell_type": "code",
      "source": [
        "tril = torch.tril(torch.ones(T, T))\n",
        "wei = torch.zeros((T,T))\n",
        "wei = wei.masked_fill(tril == 0, float('-inf'))\n",
        "wei = F.softmax(wei, dim=-1)\n",
        "wei = wei / wei.sum(1, keepdim=True)\n",
        "xbow3 = wei @ x\n",
        "torch.allclose(xbow, xbow3)"
      ],
      "metadata": {
        "colab": {
          "base_uri": "https://localhost:8080/"
        },
        "id": "-Ijy8DQkNIcy",
        "outputId": "708febf3-25e0-4290-f0f8-effba4dfe6d4"
      },
      "execution_count": null,
      "outputs": [
        {
          "output_type": "execute_result",
          "data": {
            "text/plain": [
              "False"
            ]
          },
          "metadata": {},
          "execution_count": 66
        }
      ]
    },
    {
      "cell_type": "code",
      "source": [
        "torch.manual_seed(42)\n",
        "a = torch.tril(torch.ones(3, 3))\n",
        "a = a / torch.sum(a, 1, keepdim=True)\n",
        "b = torch.randint(0,10,(3,2)).float()\n",
        "c = a @ b\n",
        "\n",
        "print('a=')\n",
        "print(a)\n",
        "print('--')\n",
        "print('b=')\n",
        "print(b)\n",
        "print('--')\n",
        "print('c=')\n",
        "print(c)"
      ],
      "metadata": {
        "colab": {
          "base_uri": "https://localhost:8080/"
        },
        "id": "B_8TdmbYKjAd",
        "outputId": "cc587fc8-31fb-41b7-d0f0-aa4607b5ab97"
      },
      "execution_count": null,
      "outputs": [
        {
          "output_type": "stream",
          "name": "stdout",
          "text": [
            "a=\n",
            "tensor([[1.0000, 0.0000, 0.0000],\n",
            "        [0.5000, 0.5000, 0.0000],\n",
            "        [0.3333, 0.3333, 0.3333]])\n",
            "--\n",
            "b=\n",
            "tensor([[2., 7.],\n",
            "        [6., 4.],\n",
            "        [6., 5.]])\n",
            "--\n",
            "c=\n",
            "tensor([[2.0000, 7.0000],\n",
            "        [4.0000, 5.5000],\n",
            "        [4.6667, 5.3333]])\n"
          ]
        }
      ]
    },
    {
      "cell_type": "code",
      "source": [
        "torch.manual_seed(1337)\n",
        "B,T,C = 4,8,32\n",
        "x = torch.randn(B,T,C)\n",
        "\n",
        "head_size = 16\n",
        "key = nn.Linear(C, head_size, bias=False)\n",
        "query = nn.Linear(C, head_size, bias=False)\n",
        "value = nn.Linear(C, head_size, bias=False)\n",
        "k = key(x)\n",
        "q = query(x)\n",
        "wei = q @ k.transpose(-2, -1)\n",
        "\n",
        "tril = torch.tril(torch.ones(T, T))\n",
        "#wei = torch.zeros((T,T))\n",
        "wei = wei.masked_fill(tril == 0, float('-inf'))\n",
        "wei = F.softmax(wei, dim=-1)\n",
        "\n",
        "v = value(x)\n",
        "out = wei @ v\n",
        "#out = wei @ x\n",
        "\n",
        "out.shape"
      ],
      "metadata": {
        "colab": {
          "base_uri": "https://localhost:8080/"
        },
        "id": "OUA71gRPfAa0",
        "outputId": "f00cff8a-e210-4dd2-ae61-2b49ed562b53"
      },
      "execution_count": null,
      "outputs": [
        {
          "output_type": "execute_result",
          "data": {
            "text/plain": [
              "torch.Size([4, 8, 16])"
            ]
          },
          "metadata": {},
          "execution_count": 80
        }
      ]
    },
    {
      "cell_type": "code",
      "source": [
        "wei[0]"
      ],
      "metadata": {
        "colab": {
          "base_uri": "https://localhost:8080/"
        },
        "id": "3s0dwg2tgyDZ",
        "outputId": "b6986104-8655-4783-c855-db66d6487677"
      },
      "execution_count": null,
      "outputs": [
        {
          "output_type": "execute_result",
          "data": {
            "text/plain": [
              "tensor([[1.0000, 0.0000, 0.0000, 0.0000, 0.0000, 0.0000, 0.0000, 0.0000],\n",
              "        [0.1574, 0.8426, 0.0000, 0.0000, 0.0000, 0.0000, 0.0000, 0.0000],\n",
              "        [0.2088, 0.1646, 0.6266, 0.0000, 0.0000, 0.0000, 0.0000, 0.0000],\n",
              "        [0.5792, 0.1187, 0.1889, 0.1131, 0.0000, 0.0000, 0.0000, 0.0000],\n",
              "        [0.0294, 0.1052, 0.0469, 0.0276, 0.7909, 0.0000, 0.0000, 0.0000],\n",
              "        [0.0176, 0.2689, 0.0215, 0.0089, 0.6812, 0.0019, 0.0000, 0.0000],\n",
              "        [0.1691, 0.4066, 0.0438, 0.0416, 0.1048, 0.2012, 0.0329, 0.0000],\n",
              "        [0.0210, 0.0843, 0.0555, 0.2297, 0.0573, 0.0709, 0.2423, 0.2391]],\n",
              "       grad_fn=<SelectBackward0>)"
            ]
          },
          "metadata": {},
          "execution_count": 79
        }
      ]
    },
    {
      "cell_type": "code",
      "source": [
        "k = torch.randn(B,T,head_size)\n",
        "q = torch.randn(B,T,head_size)\n",
        "wei = q @ k.transpose(-2, -1) * head_size**-0.5"
      ],
      "metadata": {
        "id": "v95DqRNOi1-q"
      },
      "execution_count": null,
      "outputs": []
    },
    {
      "cell_type": "code",
      "source": [
        "k.var()"
      ],
      "metadata": {
        "colab": {
          "base_uri": "https://localhost:8080/"
        },
        "id": "htHM9IbojEaf",
        "outputId": "9b82dffe-dc30-4a57-b77f-2d95bb3e2190"
      },
      "execution_count": null,
      "outputs": [
        {
          "output_type": "execute_result",
          "data": {
            "text/plain": [
              "tensor(1.0449)"
            ]
          },
          "metadata": {},
          "execution_count": 82
        }
      ]
    },
    {
      "cell_type": "code",
      "source": [
        "q.var()"
      ],
      "metadata": {
        "colab": {
          "base_uri": "https://localhost:8080/"
        },
        "id": "533oSL3hjHcK",
        "outputId": "b323008d-2364-425b-943f-0990d4e14a5d"
      },
      "execution_count": null,
      "outputs": [
        {
          "output_type": "execute_result",
          "data": {
            "text/plain": [
              "tensor(1.0700)"
            ]
          },
          "metadata": {},
          "execution_count": 83
        }
      ]
    },
    {
      "cell_type": "code",
      "source": [
        "wei.var()"
      ],
      "metadata": {
        "colab": {
          "base_uri": "https://localhost:8080/"
        },
        "id": "SLx_Q5KpjL-F",
        "outputId": "4a228bbe-6d66-49a9-d5fc-a9dc16a86f3a"
      },
      "execution_count": null,
      "outputs": [
        {
          "output_type": "execute_result",
          "data": {
            "text/plain": [
              "tensor(1.0918)"
            ]
          },
          "metadata": {},
          "execution_count": 84
        }
      ]
    },
    {
      "cell_type": "code",
      "source": [
        "torch.softmax(torch.tensor([0.1, -0.2, 0.3, -0.2, 0.5]), dim=-1)\n"
      ],
      "metadata": {
        "colab": {
          "base_uri": "https://localhost:8080/"
        },
        "id": "IEUN1g_ajPnW",
        "outputId": "70076627-9544-4299-b3a9-113ae6b183b4"
      },
      "execution_count": null,
      "outputs": [
        {
          "output_type": "execute_result",
          "data": {
            "text/plain": [
              "tensor([0.1925, 0.1426, 0.2351, 0.1426, 0.2872])"
            ]
          },
          "metadata": {},
          "execution_count": 85
        }
      ]
    },
    {
      "cell_type": "code",
      "source": [
        "torch.softmax(torch.tensor([0.1, -0.2, 0.3, -0.2, 0.5])*8, dim=-1)\n"
      ],
      "metadata": {
        "colab": {
          "base_uri": "https://localhost:8080/"
        },
        "id": "x0jolAU6jfZJ",
        "outputId": "e09fb39e-c747-4283-ea55-c7e4bde1d54f"
      },
      "execution_count": null,
      "outputs": [
        {
          "output_type": "execute_result",
          "data": {
            "text/plain": [
              "tensor([0.0326, 0.0030, 0.1615, 0.0030, 0.8000])"
            ]
          },
          "metadata": {},
          "execution_count": 86
        }
      ]
    },
    {
      "cell_type": "code",
      "source": [
        "class LayerNorm1d:\n",
        "\n",
        "  def __init__(self, dim, eps=1e-5, momentum=0.1):\n",
        "    self.eps = eps\n",
        "    self.gamma = torch.ones(dim)\n",
        "    self.beta = torch.zeros(dim)\n",
        "\n",
        "  def __call__(self, x):\n",
        "    xmean = x.mean(1, keepdim=True)\n",
        "    xvar = x.var(1, keepdim=True)\n",
        "    xhat = (x - xmean) / torch.sqrt(xvar + self.eps)\n",
        "    self.out = self.gamma * xhat + self.beta\n",
        "    return self.out\n",
        "\n",
        "  def parameters(self):\n",
        "    return [self.gamma, self.beta]\n",
        "\n",
        "torch.manual_seed(1337)\n",
        "module = LayerNorm1d(100)\n",
        "x = torch.randn(32, 100)\n",
        "x = module(x)\n",
        "x.shape"
      ],
      "metadata": {
        "colab": {
          "base_uri": "https://localhost:8080/"
        },
        "id": "sz--w927tQCO",
        "outputId": "12bb18fe-9e52-4bb6-bdd1-12846e9778db"
      },
      "execution_count": null,
      "outputs": [
        {
          "output_type": "execute_result",
          "data": {
            "text/plain": [
              "torch.Size([32, 100])"
            ]
          },
          "metadata": {},
          "execution_count": 87
        }
      ]
    },
    {
      "cell_type": "code",
      "source": [
        "x[:,0].mean(), x[:,0].std()"
      ],
      "metadata": {
        "colab": {
          "base_uri": "https://localhost:8080/"
        },
        "id": "HMO-tsDXtbAT",
        "outputId": "d001833c-abc5-4db3-a11f-17280dc18688"
      },
      "execution_count": null,
      "outputs": [
        {
          "output_type": "execute_result",
          "data": {
            "text/plain": [
              "(tensor(0.1469), tensor(0.8803))"
            ]
          },
          "metadata": {},
          "execution_count": 88
        }
      ]
    },
    {
      "cell_type": "code",
      "source": [
        "x[0,:].mean(), x[0,:].std()"
      ],
      "metadata": {
        "colab": {
          "base_uri": "https://localhost:8080/"
        },
        "id": "m-lZ1RlWtfCB",
        "outputId": "fc6436f4-d8ff-4ccd-81de-55566650a674"
      },
      "execution_count": null,
      "outputs": [
        {
          "output_type": "execute_result",
          "data": {
            "text/plain": [
              "(tensor(-9.5367e-09), tensor(1.0000))"
            ]
          },
          "metadata": {},
          "execution_count": 89
        }
      ]
    },
    {
      "cell_type": "code",
      "source": [
        "import torch\n",
        "import torch.nn as nn\n",
        "from torch.nn import functional as F\n",
        "\n",
        "batch_size = 16\n",
        "block_size = 32\n",
        "max_iters = 5000\n",
        "eval_interval = 100\n",
        "learning_rate = 1e-3\n",
        "device = 'cuda' if torch.cuda.is_available() else 'cpu'\n",
        "eval_iters = 200\n",
        "n_embd = 64\n",
        "n_head = 4\n",
        "n_layer = 4\n",
        "dropout = 0.0\n",
        "\n",
        "torch.manual_seed(1337)\n",
        "\n",
        "!wget https://raw.githubusercontent.com/ragavkish/a.n.d.r.e.w./refs/heads/main/input.txt\n",
        "\n",
        "with open('input.txt', 'r', encoding='utf-8') as f:\n",
        "    text = f.read()\n",
        "\n",
        "chars = sorted(list(set(text)))\n",
        "vocab_size = len(chars)\n",
        "\n",
        "stoi = { ch:i for i,ch in enumerate(chars) }\n",
        "itos = { i:ch for i,ch in enumerate(chars) }\n",
        "encode = lambda s: [stoi[c] for c in s]\n",
        "decode = lambda l: ''.join([itos[i] for i in l])\n",
        "\n",
        "data = torch.tensor(encode(text), dtype=torch.long)\n",
        "n = int(0.9*len(data))\n",
        "train_data = data[:n]\n",
        "val_data = data[n:]\n",
        "\n",
        "def get_batch(split):\n",
        "    data = train_data if split == 'train' else val_data\n",
        "    ix = torch.randint(len(data) - block_size, (batch_size,))\n",
        "    x = torch.stack([data[i:i+block_size] for i in ix])\n",
        "    y = torch.stack([data[i+1:i+block_size+1] for i in ix])\n",
        "    x, y = x.to(device), y.to(device)\n",
        "    return x, y\n",
        "\n",
        "@torch.no_grad()\n",
        "def estimate_loss():\n",
        "    out = {}\n",
        "    model.eval()\n",
        "    for split in ['train', 'val']:\n",
        "        losses = torch.zeros(eval_iters)\n",
        "        for k in range(eval_iters):\n",
        "            X, Y = get_batch(split)\n",
        "            logits, loss = model(X, Y)\n",
        "            losses[k] = loss.item()\n",
        "        out[split] = losses.mean()\n",
        "    model.train()\n",
        "    return out\n",
        "\n",
        "class Head(nn.Module):\n",
        "\n",
        "    def __init__(self, head_size):\n",
        "        super().__init__()\n",
        "        self.key = nn.Linear(n_embd, head_size, bias=False)\n",
        "        self.query = nn.Linear(n_embd, head_size, bias=False)\n",
        "        self.value = nn.Linear(n_embd, head_size, bias=False)\n",
        "        self.register_buffer('tril', torch.tril(torch.ones(block_size, block_size)))\n",
        "\n",
        "        self.dropout = nn.Dropout(dropout)\n",
        "\n",
        "    def forward(self, x):\n",
        "        B,T,C = x.shape\n",
        "        k = self.key(x)\n",
        "        q = self.query(x)\n",
        "\n",
        "        wei = q @ k.transpose(-2,-1) * C**-0.5\n",
        "        wei = wei.masked_fill(self.tril[:T, :T] == 0, float('-inf'))\n",
        "        wei = F.softmax(wei, dim=-1)\n",
        "        wei = self.dropout(wei)\n",
        "        v = self.value(x)\n",
        "        out = wei @ v\n",
        "        return out\n",
        "\n",
        "class MultiHeadAttention(nn.Module):\n",
        "\n",
        "    def __init__(self, num_heads, head_size):\n",
        "        super().__init__()\n",
        "        self.heads = nn.ModuleList([Head(head_size) for _ in range(num_heads)])\n",
        "        self.proj = nn.Linear(n_embd, n_embd)\n",
        "        self.dropout = nn.Dropout(dropout)\n",
        "\n",
        "    def forward(self, x):\n",
        "        out = torch.cat([h(x) for h in self.heads], dim=-1)\n",
        "        out = self.dropout(self.proj(out))\n",
        "        return out\n",
        "\n",
        "class FeedFoward(nn.Module):\n",
        "\n",
        "    def __init__(self, n_embd):\n",
        "        super().__init__()\n",
        "        self.net = nn.Sequential(\n",
        "            nn.Linear(n_embd, 4 * n_embd),\n",
        "            nn.ReLU(),\n",
        "            nn.Linear(4 * n_embd, n_embd),\n",
        "            nn.Dropout(dropout),\n",
        "        )\n",
        "\n",
        "    def forward(self, x):\n",
        "        return self.net(x)\n",
        "\n",
        "class Block(nn.Module):\n",
        "\n",
        "    def __init__(self, n_embd, n_head):\n",
        "        super().__init__()\n",
        "        head_size = n_embd // n_head\n",
        "        self.sa = MultiHeadAttention(n_head, head_size)\n",
        "        self.ffwd = FeedFoward(n_embd)\n",
        "        self.ln1 = nn.LayerNorm(n_embd)\n",
        "        self.ln2 = nn.LayerNorm(n_embd)\n",
        "\n",
        "    def forward(self, x):\n",
        "        x = x + self.sa(self.ln1(x))\n",
        "        x = x + self.ffwd(self.ln2(x))\n",
        "        return x\n",
        "\n",
        "class BigramLanguageModel(nn.Module):\n",
        "\n",
        "    def __init__(self):\n",
        "        super().__init__()\n",
        "        self.token_embedding_table = nn.Embedding(vocab_size, n_embd)\n",
        "        self.position_embedding_table = nn.Embedding(block_size, n_embd)\n",
        "        self.blocks = nn.Sequential(*[Block(n_embd, n_head=n_head) for _ in range(n_layer)])\n",
        "        self.ln_f = nn.LayerNorm(n_embd)\n",
        "        self.lm_head = nn.Linear(n_embd, vocab_size)\n",
        "\n",
        "    def forward(self, idx, targets=None):\n",
        "        B, T = idx.shape\n",
        "\n",
        "        tok_emb = self.token_embedding_table(idx)\n",
        "        pos_emb = self.position_embedding_table(torch.arange(T, device=device))\n",
        "        x = tok_emb + pos_emb\n",
        "        x = self.blocks(x)\n",
        "        x = self.ln_f(x)\n",
        "        logits = self.lm_head(x)\n",
        "\n",
        "        if targets is None:\n",
        "            loss = None\n",
        "        else:\n",
        "            B, T, C = logits.shape\n",
        "            logits = logits.view(B*T, C)\n",
        "            targets = targets.view(B*T)\n",
        "            loss = F.cross_entropy(logits, targets)\n",
        "\n",
        "        return logits, loss\n",
        "\n",
        "    def generate(self, idx, max_new_tokens):\n",
        "        for _ in range(max_new_tokens):\n",
        "            idx_cond = idx[:, -block_size:]\n",
        "            logits, loss = self(idx_cond)\n",
        "            logits = logits[:, -1, :]\n",
        "            probs = F.softmax(logits, dim=-1)\n",
        "            idx_next = torch.multinomial(probs, num_samples=1)\n",
        "            idx = torch.cat((idx, idx_next), dim=1)\n",
        "        return idx\n",
        "\n",
        "model = BigramLanguageModel()\n",
        "m = model.to(device)\n",
        "print(sum(p.numel() for p in m.parameters())/1e6, 'M parameters')\n",
        "\n",
        "optimizer = torch.optim.AdamW(model.parameters(), lr=learning_rate)\n",
        "\n",
        "for iter in range(max_iters):\n",
        "\n",
        "    if iter % eval_interval == 0 or iter == max_iters - 1:\n",
        "        losses = estimate_loss()\n",
        "        print(f\"step {iter}: train loss {losses['train']:.4f}, val loss {losses['val']:.4f}\")\n",
        "\n",
        "    xb, yb = get_batch('train')\n",
        "\n",
        "    logits, loss = model(xb, yb)\n",
        "    optimizer.zero_grad(set_to_none=True)\n",
        "    loss.backward()\n",
        "    optimizer.step()\n",
        "\n",
        "context = torch.zeros((1, 1), dtype=torch.long, device=device)\n",
        "print(decode(m.generate(context, max_new_tokens=2000)[0].tolist()))"
      ],
      "metadata": {
        "colab": {
          "base_uri": "https://localhost:8080/"
        },
        "id": "hJKUGK7Btk9h",
        "outputId": "f707e18a-29c8-47a1-fc01-343fa0c82f66"
      },
      "execution_count": null,
      "outputs": [
        {
          "output_type": "stream",
          "name": "stdout",
          "text": [
            "--2024-12-23 17:27:28--  https://raw.githubusercontent.com/ragavkish/a.n.d.r.e.w./refs/heads/main/input.txt\n",
            "Resolving raw.githubusercontent.com (raw.githubusercontent.com)... 185.199.110.133, 185.199.109.133, 185.199.111.133, ...\n",
            "Connecting to raw.githubusercontent.com (raw.githubusercontent.com)|185.199.110.133|:443... connected.\n",
            "HTTP request sent, awaiting response... 200 OK\n",
            "Length: 2896107 (2.8M) [text/plain]\n",
            "Saving to: ‘input.txt’\n",
            "\n",
            "input.txt           100%[===================>]   2.76M  9.45MB/s    in 0.3s    \n",
            "\n",
            "2024-12-23 17:27:30 (9.45 MB/s) - ‘input.txt’ saved [2896107/2896107]\n",
            "\n",
            "0.228176 M parameters\n",
            "step 0: train loss 5.4793, val loss 5.4867\n",
            "step 100: train loss 2.7636, val loss 2.8598\n",
            "step 200: train loss 2.6099, val loss 2.7053\n",
            "step 300: train loss 2.5170, val loss 2.6157\n",
            "step 400: train loss 2.4331, val loss 2.5370\n",
            "step 500: train loss 2.3580, val loss 2.4780\n",
            "step 600: train loss 2.2725, val loss 2.3991\n",
            "step 700: train loss 2.2050, val loss 2.3529\n",
            "step 800: train loss 2.1377, val loss 2.2863\n",
            "step 900: train loss 2.0996, val loss 2.2325\n",
            "step 1000: train loss 2.0460, val loss 2.1999\n",
            "step 1100: train loss 1.9909, val loss 2.1416\n",
            "step 1200: train loss 1.9673, val loss 2.1074\n",
            "step 1300: train loss 1.9416, val loss 2.1069\n",
            "step 1400: train loss 1.9040, val loss 2.0678\n",
            "step 1500: train loss 1.8756, val loss 2.0440\n",
            "step 1600: train loss 1.8672, val loss 2.0244\n",
            "step 1700: train loss 1.8351, val loss 2.0031\n",
            "step 1800: train loss 1.8300, val loss 1.9958\n",
            "step 1900: train loss 1.8029, val loss 1.9621\n",
            "step 2000: train loss 1.7798, val loss 1.9635\n",
            "step 2100: train loss 1.7825, val loss 1.9498\n",
            "step 2200: train loss 1.7506, val loss 1.9598\n",
            "step 2300: train loss 1.7484, val loss 1.9165\n",
            "step 2400: train loss 1.7226, val loss 1.9104\n",
            "step 2500: train loss 1.7254, val loss 1.9130\n",
            "step 2600: train loss 1.7097, val loss 1.9029\n",
            "step 2700: train loss 1.6934, val loss 1.8909\n",
            "step 2800: train loss 1.6909, val loss 1.8889\n",
            "step 2900: train loss 1.6749, val loss 1.8921\n",
            "step 3000: train loss 1.6729, val loss 1.8762\n",
            "step 3100: train loss 1.6701, val loss 1.8872\n",
            "step 3200: train loss 1.6523, val loss 1.8700\n",
            "step 3300: train loss 1.6546, val loss 1.8587\n",
            "step 3400: train loss 1.6486, val loss 1.8680\n",
            "step 3500: train loss 1.6448, val loss 1.8558\n",
            "step 3600: train loss 1.6351, val loss 1.8402\n",
            "step 3700: train loss 1.6423, val loss 1.8465\n",
            "step 3800: train loss 1.6268, val loss 1.8298\n",
            "step 3900: train loss 1.6390, val loss 1.8451\n",
            "step 4000: train loss 1.6135, val loss 1.8536\n",
            "step 4100: train loss 1.6186, val loss 1.8352\n",
            "step 4200: train loss 1.6290, val loss 1.8153\n",
            "step 4300: train loss 1.6125, val loss 1.8178\n",
            "step 4400: train loss 1.5950, val loss 1.8090\n",
            "step 4500: train loss 1.5975, val loss 1.8145\n",
            "step 4600: train loss 1.5908, val loss 1.8190\n",
            "step 4700: train loss 1.5952, val loss 1.8192\n",
            "step 4800: train loss 1.5782, val loss 1.8044\n",
            "step 4900: train loss 1.5962, val loss 1.7967\n",
            "step 4999: train loss 1.5756, val loss 1.8021\n",
            "\n",
            "He consponding one E, this equares very of equal.\n",
            "Cauther than let D. If the circulus of the three of the\n",
            "tweome fundamine produce, are viest than B sopposition\n",
            "have\n",
            "puble, etc.\n",
            "If Bori W1 is not so diuch that, it is i2, it is series\n",
            "aver so. meaning then interface.”\n",
            "And.\n",
            "96. Thus were which arre these segience of accordantaces. i produced and a, y.o. And then,” it is let the interval different into y.\n",
            "Thus this equations: B or C, be 4n, and v′x (set end heach\n",
            "of the sign of the first littend (Rod than thirt in findesion, and Vachange to him matter and collects to itself ginent\n",
            "the gives temphentannasimal oper that C, Ya. Eo\n",
            "\fSChist’sed by this infinitely.\n",
            "Things, in existenting to he furthere opean that perfure, number of the same\n",
            "charically equation of difference will cubestains to this not lige rational inscreased “from x. Deference of\n",
            "observes into [2n …E ware mithough that Π − whand\n",
            "the numbers\n",
            "Peequal to then are over estaning is circle, AC solvided by the whole can the sections ofter squares\n",
            "(2 · − m)canders: its is\n",
            "smally beparsated aboved intother\n",
            "other\n",
            "surface of the following, ther\n",
            "of M curval the real\n",
            "corcul therefore wy one saftuse than they proper of the subtraction relation of which given the classes any\n",
            "therefore is that itseed case of G[31\n",
            "will we tain the othree and\n",
            "theorem. . is such classes Triok,\n",
            "In, they fuxthor\n",
            "advated by the curves in AB:\n",
            " A2considerned bii.i.) No and by the not frexth, figuned not requal agains bridges.\n",
            "Conser A thirtice, termines for those curved not if thus equations\n",
            "whatever the all by than the form of Drange a consect.” That thirt into matime, stated they, long doift numbers of alnother can in transek unisessentives than fourther integral Mat of B, line yeast of theorem, A is circinal taken meanner of nores, the bheorewn A are results.\n",
            "Plifined\n",
            "than 18, 3, and f(x) or number of the posulater of maon indenwing one correspondlems asserest’ll xist of which, it is term to be mean the ratioistry the points osen that\n",
            "cone to\n",
            "t\n"
          ]
        }
      ]
    }
  ]
}