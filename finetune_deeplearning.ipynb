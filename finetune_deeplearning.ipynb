{
  "nbformat": 4,
  "nbformat_minor": 0,w
  "metadata": {
    "colab": {
      "provenance": [],
      "authorship_tag": "ABX9TyOrhkAafx3DmAHV23msDZgY",
      "include_colab_link": true
    },
    "kernelspec": {
      "name": "python3",
      "display_name": "Python 3"
    },
    "language_info": {
      "name": "python"
    }
  },
  "cells": [
    {
      "cell_type": "markdown",
      "metadata": {
        "id": "view-in-github",
        "colab_type": "text"
      },
      "source": [
        "<a href=\"https://colab.research.google.com/github/ragavkish/a.n.d.r.e.w./blob/main/finetune_deeplearning.ipynb\" target=\"_parent\"><img src=\"https://colab.research.google.com/assets/colab-badge.svg\" alt=\"Open In Colab\"/></a>"
      ]
    },
    {
      "cell_type": "code",
      "execution_count": null,
      "metadata": {
        "id": "TZacDmYZf718"
      },
      "outputs": [],
      "source": []
    }
  ]
}
